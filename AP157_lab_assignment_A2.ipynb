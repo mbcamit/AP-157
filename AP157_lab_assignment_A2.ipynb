{
 "cells": [
  {
   "cell_type": "markdown",
   "metadata": {
    "id": "ST5d6dw3dLZh"
   },
   "source": [
    "# **AP157 Machine Learning Lab Assignment**\n",
    "## Module A.2: Classification -- Morphological Classification of Galaxies using Decision Trees\n",
    "\n",
    "_Instructions_: Answer each part of the assignment as completely as you can. Discuss **all** your code and results as clearly and concisely as possible.\n",
    "\n",
    "_Scoring Criteria_: 50% - *correctness of code*; 50% - *discussion of the code and results*. Maximum score is **100 points** (Parts 1, 2, and 3 are worth 20, 40, and 40 points, respectively).\n",
    "\n",
    "_Credits_: This assignment is based on the Week 6 module of the Coursera course \"Data-driven Astronomy\", \"Exploring machine learning classification\" ([link](https://www.coursera.org/learn/data-driven-astronomy/home/welcome))"
   ]
  },
  {
   "cell_type": "markdown",
   "metadata": {
    "id": "iZZaEzKHdVYG"
   },
   "source": [
    "### Student Information\n",
    "\n",
    "_Full Name (Last Name, First Name)_: Ma. Ezthelia Kaye B. Camit \\\n",
    "_Student No._:2020-06594\\\n",
    "_Section_:THY-TX-1\n"
   ]
  },
  {
   "cell_type": "markdown",
   "metadata": {
    "id": "Xv1STpPodaDL"
   },
   "source": [
    "### Submission Information\n",
    "\n",
    "_Date and Time Submitted (most recent upload)_:\n",
    "\n",
    "**HONOR PLEDGE** I affirm that I have upheld the highest principles of honesty and integrity in my academic work and that this lab assignment is my own work.\n",
    "\n",
    "**Sign here with your full name: MA. EZTHELIA KAYE B. CAMIT**"
   ]
  },
  {
   "cell_type": "markdown",
   "metadata": {
    "id": "8zw1kC_rdoHT"
   },
   "source": [
    "### Grading Information (c/o Instructor)\n",
    "\n",
    "TOTAL SCORE: **[]**/100\n",
    "\n",
    "Score breakdown:\n",
    "* Part 1 - []/20\n",
    "* Part 2 - []/40\n",
    "* Part 3 - []/40\n",
    "\n",
    "_Date and Time Scored (MM/DD/YYYY HH:MM AM/PM):_"
   ]
  },
  {
   "cell_type": "markdown",
   "metadata": {
    "id": "UNaYs-MfeDRl"
   },
   "source": [
    "For this assignment, you will work with galaxy data from the\n",
    "Sloan Digital Sky Survey (SDSS). First, you need to make a copy of the binary file ```galaxy_catalogue.npy``` and save it to a folder in your **own Google Drive**. This file is available from the AP157 Machine Learning Google Drive (under the Datasets folder).\n",
    "\n",
    "The code cells below will (1) mount your Google Drive and (2) load ```galaxy_catalogue.npy``` from your Google Drive folder."
   ]
  },
  {
   "cell_type": "markdown",
   "metadata": {
    "id": "ee1mHlUWfcsc"
   },
   "source": [
    "Mount the Google Drive where you saved the .npy file.\n",
    "\n",
    "When you run this cell, you will be asked to sign in to your Google account and you will get an authorization code. Paste the code on the provided cell to mount the Google Drive."
   ]
  },
  {
   "cell_type": "code",
   "execution_count": 1,
   "metadata": {
    "id": "yH0IOwb1YBHc"
   },
   "outputs": [],
   "source": [
    "import numpy as np\n",
    "import os\n",
    "import sys\n",
    "import pandas as pd\n",
    "\n",
    "#add parent path to the system\n",
    "par_path = os.path.abspath(os.path.join(''))\n",
    "if par_path not in sys.path:\n",
    "    sys.path.append(par_path)\n"
   ]
  },
  {
   "cell_type": "code",
   "execution_count": 2,
   "metadata": {},
   "outputs": [],
   "source": [
    "data = np.load('galaxy_catalogue.npy')\n"
   ]
  },
  {
   "cell_type": "markdown",
   "metadata": {
    "id": "HpXP16UfWHQK"
   },
   "source": [
    "Print out the first couple of rows. Note that the columns are: $u-g$, $g-r$, $r-i$, $i-z$, eccentricity, $m_u$, $m_g$, $m_r$, $m_i$, $m_z$, $R_{50,u}$, $R_{50,r}$, $R_{50,z}$, $R_{90,u}$, $R_{90,r}$, $R_{90,z}$, and class."
   ]
  },
  {
   "cell_type": "code",
   "execution_count": 44,
   "metadata": {
    "id": "HbQiDjyIWsjr"
   },
   "outputs": [
    {
     "data": {
      "text/plain": [
       "array([(1.85765, 0.67158, 0.4231 , 0.3061 , 0.5854284, 2.251946, 2.339849, 2.380652, 2.359738, 2.395528, 3.095123, 3.818919, 3.82623 , 5.174814, 8.263009, 11.47734 , 'merger'),\n",
       "       (1.74259, 0.86085, 0.44927, 0.28851, 0.7498125, 2.031566, 2.084156, 2.092272, 2.124075, 2.133154, 1.430436, 1.422533, 1.385727, 3.732712, 3.416921,  3.330347, 'merger')],\n",
       "      dtype=[('u-g', '<f8'), ('g-r', '<f8'), ('r-i', '<f8'), ('i-z', '<f8'), ('ecc', '<f8'), ('m4_u', '<f8'), ('m4_g', '<f8'), ('m4_r', '<f8'), ('m4_i', '<f8'), ('m4_z', '<f8'), ('petroR50_u', '<f8'), ('petroR50_r', '<f8'), ('petroR50_z', '<f8'), ('petroR90_u', '<f8'), ('petroR90_r', '<f8'), ('petroR90_z', '<f8'), ('class', '<U20')])"
      ]
     },
     "execution_count": 44,
     "metadata": {},
     "output_type": "execute_result"
    }
   ],
   "source": [
    "data[:2]"
   ]
  },
  {
   "cell_type": "markdown",
   "metadata": {
    "id": "_eq2V7xzFtq7"
   },
   "source": [
    "#### PART 1 - Get features and targets *(20 pts.)*\n",
    "\n",
    "Write a function ```get_features_targets``` that splits the dataset into input features and their corresponding targets. In our case, the inputs are the 4 galaxy colors ($u-g$, $g-r$, $r-i$, and $i-z$), eccentricity, $ugriz$ magnitudes, and concentrations $R_{50}/R_{90}$ in the $u$, $r$, and $z$ bands. The targets are the classes.\n",
    "\n",
    "Here's an example of how your function should work:\n",
    "```\n",
    ">>> features, targets = get_features_targets(data)\n",
    ">>> print(\"Features shape:\", features.shape\n",
    ">>> print(\"Targets shape:\", targets.shape)\n",
    "Features shape: (780, 13)\n",
    "Targets shape: (780,)\n",
    "```"
   ]
  },
  {
   "cell_type": "code",
   "execution_count": 45,
   "metadata": {},
   "outputs": [
    {
     "data": {
      "text/html": [
       "<div>\n",
       "<style scoped>\n",
       "    .dataframe tbody tr th:only-of-type {\n",
       "        vertical-align: middle;\n",
       "    }\n",
       "\n",
       "    .dataframe tbody tr th {\n",
       "        vertical-align: top;\n",
       "    }\n",
       "\n",
       "    .dataframe thead th {\n",
       "        text-align: right;\n",
       "    }\n",
       "</style>\n",
       "<table border=\"1\" class=\"dataframe\">\n",
       "  <thead>\n",
       "    <tr style=\"text-align: right;\">\n",
       "      <th></th>\n",
       "      <th>u-g</th>\n",
       "      <th>g-r</th>\n",
       "      <th>r-i</th>\n",
       "      <th>i-z</th>\n",
       "      <th>ecc</th>\n",
       "      <th>m4_u</th>\n",
       "      <th>m4_g</th>\n",
       "      <th>m4_r</th>\n",
       "      <th>m4_i</th>\n",
       "      <th>m4_z</th>\n",
       "      <th>R50_u/R90_u</th>\n",
       "      <th>R50_r/R90_r</th>\n",
       "      <th>R50_z/R90_z</th>\n",
       "    </tr>\n",
       "  </thead>\n",
       "  <tbody>\n",
       "    <tr>\n",
       "      <th>0</th>\n",
       "      <td>1.85765</td>\n",
       "      <td>0.67158</td>\n",
       "      <td>0.42310</td>\n",
       "      <td>0.30610</td>\n",
       "      <td>0.585428</td>\n",
       "      <td>2.251946</td>\n",
       "      <td>2.339849</td>\n",
       "      <td>2.380652</td>\n",
       "      <td>2.359738</td>\n",
       "      <td>2.395528</td>\n",
       "      <td>0.598113</td>\n",
       "      <td>0.462170</td>\n",
       "      <td>0.333373</td>\n",
       "    </tr>\n",
       "    <tr>\n",
       "      <th>1</th>\n",
       "      <td>1.74259</td>\n",
       "      <td>0.86085</td>\n",
       "      <td>0.44927</td>\n",
       "      <td>0.28851</td>\n",
       "      <td>0.749812</td>\n",
       "      <td>2.031566</td>\n",
       "      <td>2.084156</td>\n",
       "      <td>2.092272</td>\n",
       "      <td>2.124075</td>\n",
       "      <td>2.133154</td>\n",
       "      <td>0.383216</td>\n",
       "      <td>0.416320</td>\n",
       "      <td>0.416091</td>\n",
       "    </tr>\n",
       "    <tr>\n",
       "      <th>2</th>\n",
       "      <td>2.10697</td>\n",
       "      <td>0.96710</td>\n",
       "      <td>0.56810</td>\n",
       "      <td>0.33747</td>\n",
       "      <td>0.630089</td>\n",
       "      <td>1.992887</td>\n",
       "      <td>2.450746</td>\n",
       "      <td>2.473116</td>\n",
       "      <td>2.465324</td>\n",
       "      <td>2.438683</td>\n",
       "      <td>0.340249</td>\n",
       "      <td>0.433751</td>\n",
       "      <td>0.307428</td>\n",
       "    </tr>\n",
       "    <tr>\n",
       "      <th>3</th>\n",
       "      <td>1.22840</td>\n",
       "      <td>0.60446</td>\n",
       "      <td>0.39049</td>\n",
       "      <td>0.28913</td>\n",
       "      <td>0.668999</td>\n",
       "      <td>2.056115</td>\n",
       "      <td>2.182252</td>\n",
       "      <td>2.309510</td>\n",
       "      <td>2.391414</td>\n",
       "      <td>2.472397</td>\n",
       "      <td>0.378602</td>\n",
       "      <td>0.333005</td>\n",
       "      <td>0.314361</td>\n",
       "    </tr>\n",
       "    <tr>\n",
       "      <th>4</th>\n",
       "      <td>1.80792</td>\n",
       "      <td>0.78124</td>\n",
       "      <td>0.45528</td>\n",
       "      <td>0.35067</td>\n",
       "      <td>0.500170</td>\n",
       "      <td>2.259167</td>\n",
       "      <td>2.194723</td>\n",
       "      <td>2.264567</td>\n",
       "      <td>2.334713</td>\n",
       "      <td>2.352568</td>\n",
       "      <td>0.353735</td>\n",
       "      <td>0.322113</td>\n",
       "      <td>0.339692</td>\n",
       "    </tr>\n",
       "  </tbody>\n",
       "</table>\n",
       "</div>"
      ],
      "text/plain": [
       "       u-g      g-r      r-i      i-z       ecc      m4_u      m4_g      m4_r  \\\n",
       "0  1.85765  0.67158  0.42310  0.30610  0.585428  2.251946  2.339849  2.380652   \n",
       "1  1.74259  0.86085  0.44927  0.28851  0.749812  2.031566  2.084156  2.092272   \n",
       "2  2.10697  0.96710  0.56810  0.33747  0.630089  1.992887  2.450746  2.473116   \n",
       "3  1.22840  0.60446  0.39049  0.28913  0.668999  2.056115  2.182252  2.309510   \n",
       "4  1.80792  0.78124  0.45528  0.35067  0.500170  2.259167  2.194723  2.264567   \n",
       "\n",
       "       m4_i      m4_z  R50_u/R90_u  R50_r/R90_r  R50_z/R90_z  \n",
       "0  2.359738  2.395528     0.598113     0.462170     0.333373  \n",
       "1  2.124075  2.133154     0.383216     0.416320     0.416091  \n",
       "2  2.465324  2.438683     0.340249     0.433751     0.307428  \n",
       "3  2.391414  2.472397     0.378602     0.333005     0.314361  \n",
       "4  2.334713  2.352568     0.353735     0.322113     0.339692  "
      ]
     },
     "execution_count": 45,
     "metadata": {},
     "output_type": "execute_result"
    }
   ],
   "source": [
    "#this part of the code is from the codes of Mitch, Paul, and Eros. \n",
    "#------------------------------------------------------\n",
    "# In this part of the code we create a pandas DataFrame named data_set, where we get the values from 'data' which \n",
    "# contained galaxy_catalogue.npy.\n",
    "# Then we calculated for the values for R_u, R_r, and R_z which were solved by dividing values contained by 'data'. \n",
    "#------------------------------------------------------\n",
    "def get_feature_targets(data):\n",
    "    ds= pd.DataFrame(data)\n",
    "    ds[\"R50_u/R90_u\"] = data_set['petroR50_u']/data_set['petroR90_u']\n",
    "    ds[\"R50_r/R90_r\"]= data_set['petroR50_r']/data_set['petroR90_r']\n",
    "    ds[\"R50_z/R90_z\"] = data_set['petroR50_z']/data_set['petroR90_z']\n",
    "\n",
    "    ds.head()\n",
    "\n",
    "    targets = ds[[\"class\"]]\n",
    "#In this part of the code we remove some data set for it is not needed\n",
    "    features = ds.drop([\"petroR50_u\", \"petroR90_u\", \"petroR50_r\", \"petroR90_r\", \"petroR50_z\", \"petroR90_z\", \"class\"], axis=1)\n",
    "\n",
    "    return targets, features\n",
    "\n",
    "targets, features = get_feature_targets(data)\n",
    "##In here we print that we did remove the unnecessary data set \n",
    "features.head()"
   ]
  },
  {
   "cell_type": "code",
   "execution_count": 46,
   "metadata": {},
   "outputs": [
    {
     "data": {
      "text/html": [
       "<div>\n",
       "<style scoped>\n",
       "    .dataframe tbody tr th:only-of-type {\n",
       "        vertical-align: middle;\n",
       "    }\n",
       "\n",
       "    .dataframe tbody tr th {\n",
       "        vertical-align: top;\n",
       "    }\n",
       "\n",
       "    .dataframe thead th {\n",
       "        text-align: right;\n",
       "    }\n",
       "</style>\n",
       "<table border=\"1\" class=\"dataframe\">\n",
       "  <thead>\n",
       "    <tr style=\"text-align: right;\">\n",
       "      <th></th>\n",
       "      <th>class</th>\n",
       "    </tr>\n",
       "  </thead>\n",
       "  <tbody>\n",
       "    <tr>\n",
       "      <th>0</th>\n",
       "      <td>merger</td>\n",
       "    </tr>\n",
       "    <tr>\n",
       "      <th>1</th>\n",
       "      <td>merger</td>\n",
       "    </tr>\n",
       "    <tr>\n",
       "      <th>2</th>\n",
       "      <td>merger</td>\n",
       "    </tr>\n",
       "    <tr>\n",
       "      <th>3</th>\n",
       "      <td>merger</td>\n",
       "    </tr>\n",
       "    <tr>\n",
       "      <th>4</th>\n",
       "      <td>merger</td>\n",
       "    </tr>\n",
       "  </tbody>\n",
       "</table>\n",
       "</div>"
      ],
      "text/plain": [
       "    class\n",
       "0  merger\n",
       "1  merger\n",
       "2  merger\n",
       "3  merger\n",
       "4  merger"
      ]
     },
     "execution_count": 46,
     "metadata": {},
     "output_type": "execute_result"
    }
   ],
   "source": [
    "#To show the column that we removed and just to check that we did remove it correctly.\n",
    "targets.head()"
   ]
  },
  {
   "cell_type": "markdown",
   "metadata": {
    "id": "vnePPYpJNWoY"
   },
   "source": [
    "#### PART 2 - Train and run a decision tree model *(40 pts.)*\n",
    "\n",
    "Write a function ```predict_class``` that will train and validate a model that predicts a galaxy's class from its photometric properties. In particular, it should do the following:\n",
    "1. Split the dataset into a training and test dataset using an 80:20 split.\n",
    "2. Train the input model using the training dataset features and targets.\n",
    "3. Return two arrays-- the predicted and actual class of the test galaxies.\n",
    "\n",
    "Here's an example of how your function should work:\n",
    "```\n",
    "import numpy as np\n",
    "from sklearn.tree import DecisionTreeClassifier\n",
    "\n",
    "data = np.load(file_path + 'galaxy_catalogue.npy')\n",
    "predicted_class, actual_class = predict_class(data)\n",
    "\n",
    "for i in np.arange(3):\n",
    "   print(\"%d, %s, %s\" & (i, predicted_class[i], actual_class[i]))\n",
    "```"
   ]
  },
  {
   "cell_type": "code",
   "execution_count": 47,
   "metadata": {
    "id": "ydeUh_Tzvf0n"
   },
   "outputs": [
    {
     "name": "stdout",
     "output_type": "stream",
     "text": [
      "0, spiral, ['spiral']\n",
      "1, spiral, ['spiral']\n",
      "2, merger, ['spiral']\n",
      "\n"
     ]
    }
   ],
   "source": [
    "from sklearn.model_selection import train_test_split\n",
    "from sklearn.tree import DecisionTreeClassifier\n",
    "\n",
    "##In this part of the code we split the data set. with an 80:20 ratio\n",
    "def predict_class(features, targets):\n",
    "    xtrain, xtest, ytrain, ytest = train_test_split(features, targets, test_size=0.2, random_state=42)\n",
    "\n",
    "    # Initialize the classifier\n",
    "    classifier = DecisionTreeClassifier()\n",
    "\n",
    "    # Train the classifier\n",
    "    classifier.fit(xtrain, ytrain)\n",
    "\n",
    "    # Predict the classes for the test set\n",
    "    predicted_class = classifier.predict(xtest)\n",
    "\n",
    "    return predicted_class, ytest\n",
    "\n",
    "xpredicted_class, xactual_class = predict_class(features, targets)\n",
    "actual_class = np.array(xactual_class)\n",
    "predicted_class = np.array(xpredicted_class)\n",
    "\n",
    "for i in range(3):\n",
    "    print(\"%d, %s, %s\" % (i, predicted_class[i], actual_class[i]))\n",
    "print()"
   ]
  },
  {
   "cell_type": "markdown",
   "metadata": {
    "id": "hlSp5k92OjuM"
   },
   "source": [
    "#### PART 3 - Confusion matrix and accuracy *(40 pts.)*\n",
    "\n",
    "1. Get the confusion matrix for your test dataset-- this is a 3 x 3 matrix with the counts for each combination of actual and predicted class. *(25 pts.)*\n",
    "\n",
    "2. Get the test accuracy of your decision tree classifer, defined as the number of correct predictions divided by the total number of predictions. *(15 pts.)*"
   ]
  },
  {
   "cell_type": "code",
   "execution_count": 48,
   "metadata": {
    "id": "OZXvnOSLdH_k"
   },
   "outputs": [
    {
     "name": "stdout",
     "output_type": "stream",
     "text": [
      "Confusion Matrix:\n",
      "[[50  5  0]\n",
      " [ 3 37  9]\n",
      " [ 0 18 34]]\n",
      "Test Accuracy: 0.7756410256410257\n"
     ]
    }
   ],
   "source": [
    "from sklearn.metrics import confusion_matrix, accuracy_score\n",
    "\n",
    "#In here we get the confusion matrix \n",
    "conf_matrix = confusion_matrix(actual_class, predicted_class)\n",
    "print(\"Confusion Matrix:\")\n",
    "print(conf_matrix)\n",
    "\n",
    "# In here we calculate the test accuracy\n",
    "test_accuracy = accuracy_score(actual_class, predicted_class)\n",
    "print(\"Test Accuracy:\", test_accuracy)"
   ]
  },
  {
   "cell_type": "code",
   "execution_count": 50,
   "metadata": {},
   "outputs": [
    {
     "data": {
      "image/png": "[encoded data removed]",
      "text/plain": [
       "<Figure size 720x576 with 1 Axes>"
      ]
     },
     "metadata": {
      "needs_background": "light"
     },
     "output_type": "display_data"
    }
   ],
   "source": [
    "import seaborn as sns\n",
    "import matplotlib.pyplot as plt\n",
    "\n",
    "plt.figure(figsize = (10,8))\n",
    "sns.heatmap(conf_matrix, annot=True, fmt='d', cmap='Greens', cbar=False,\n",
    "            xticklabels=['elliptical', 'spiral', 'merger'],\n",
    "            yticklabels=['elliptical', 'spiral', 'merger'])\n",
    "plt.xlabel('Predicted')\n",
    "plt.ylabel('Actual')\n",
    "plt.title('Confusion Matrix')\n",
    "plt.show()"
   ]
  },
  {
   "cell_type": "markdown",
   "metadata": {},
   "source": [
    "Note that the rows represent the actual classes while the column is the predicted class. The diagonal elements represent the number of correct predictions of each class. Based on the confusion matrix the model correctly predicted 50 elliptical, 37 spiral, and 34 merger. All values on the off diagonal contain the misclassifications done by the model. The misclassifications on the confusion matrix is relatively lower compared to the right predictions. Test accuracy is calculated as the ratio of correct predictions to the total number of predictions. In this case, the test accuracy is approximately 0.776 or 77.6%, indicating that the model performs reasonably well in generalizing to unseen data."
   ]
  }
 ],
 "metadata": {
  "colab": {
   "provenance": [
    {
     "file_id": "1vYhuju-ExMXNjqqry3H5jn-o0TihmYhJ",
     "timestamp": 1614175333203
    },
    {
     "file_id": "1-PJ4iPpVTk5FZ2LoOUsN1N_0X0o1waDK",
     "timestamp": 1599397461883
    }
   ]
  },
  "kernelspec": {
   "display_name": "Python 3 (ipykernel)",
   "language": "python",
   "name": "python3"
  },
  "language_info": {
   "codemirror_mode": {
    "name": "ipython",
    "version": 3
   },
   "file_extension": ".py",
   "mimetype": "text/x-python",
   "name": "python",
   "nbconvert_exporter": "python",
   "pygments_lexer": "ipython3",
   "version": "3.9.12"
  }
 },
 "nbformat": 4,
 "nbformat_minor": 1
}
