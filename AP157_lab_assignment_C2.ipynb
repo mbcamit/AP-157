{
 "cells": [
  {
   "cell_type": "markdown",
   "metadata": {
    "id": "8u3wdhYhX6GF"
   },
   "source": [
    "# **AP157 Module C Lab Assignment**\n",
    "\n",
    "## Module C2: Monte Carlo Methods\n",
    "\n",
    "_Instructions_: Answer each part of the assignment as completely as you can. Discuss **all** your code and results as clearly and concisely as possible.\n",
    "\n",
    "_Scoring Criteria_: 50% - *correctness of code*; 50% - *discussion of the code and results*. Maximum score is **100 points**.\n",
    "\n",
    "_Credits_: This lab assignment is based on work by Dr. Reyes in collaboration with Gene Belinario and Dr. Reginald Bernardo.\n",
    "\n",
    "_Additional Reference_: MCMC Tutorial - https://prappleizer.github.io/Tutorials/MCMC/MCMC_Tutorial_Solution.html"
   ]
  },
  {
   "cell_type": "markdown",
   "metadata": {
    "id": "x6QU0eeNYseY"
   },
   "source": [
    "### Student Information\n",
    "\n",
    "_Full Name (Last Name, First Name)_: MA. EZTHELIA KAYE B. CAMIT \\\n",
    "_Student No._:09666717713\\\n",
    "_Section_:THY-TX1"
   ]
  },
  {
   "cell_type": "markdown",
   "metadata": {
    "id": "GzwlHlFwYtbv"
   },
   "source": [
    "### Submission Information\n",
    "\n",
    "_Date and Time Submitted (most recent upload)_:\n",
    "\n",
    "**HONOR PLEDGE** I affirm that I have upheld the highest principles of honesty and integrity in my academic work and that this lab assignment is my own work.\n",
    "\n",
    "**Sign here with your full name:MA. EZTHELIA KAYE B. CAMIT**"
   ]
  },
  {
   "cell_type": "markdown",
   "metadata": {
    "id": "1as4IpTFYxfx"
   },
   "source": [
    "### Grading Information (c/o Instructor)\n",
    "\n",
    "TOTAL SCORE: **[]**/100\n",
    "\n",
    "Score breakdown:\n",
    "* Part 1 - []/20\n",
    "* Part 2 - []/20\n",
    "* Part 3 - []/30\n",
    "* Part 4 - []/30\n",
    "\n",
    "_Date and Time Scored (MM/DD/YYYY HH:MM AM/PM):_"
   ]
  },
  {
   "cell_type": "markdown",
   "metadata": {
    "id": "PB0N2FuuY3RU"
   },
   "source": [
    "In this lab assignment, you will generate constraints on cosmological parameters, the Hubble parameter H_0 and matter density Omega_m,0, from (synthetic) Hubble diagram data points from gravitational-wave (GW) sirens observed from 3 GW observatories: LIGO, LISA, and Einstein Telescope (ET).\n",
    "\n",
    "The datasets are in the Google Drive \"Datasets\" Folder under \"AP157_moduleC2\" subfolder: https://drive.google.com/drive/folders/1UnK1AggxdsjtG3PoOcyXfpahBcWjOBzj?usp=drive_link.\n",
    "\n",
    "Read in the 3 datasets from the CSV files: LIGO.csv, LISA.csv, ET.csv. The columns are redshift (z), luminosity distance (dL), and error in the luminosity distance (err). The distances are in units of Gpc (giga-parsecs).\n",
    "\n",
    "Load the data into variable names: zLIGO, dLLIGO, errLIGO, zLISA, dLLISA, errLISA, and zET, dLET, and errET, respectively. Note that these variable names will be used in later parts of the code, so you have to use these names for compatibility."
   ]
  },
  {
   "cell_type": "code",
   "execution_count": 26,
   "metadata": {
    "id": "wWNT09i67_zg"
   },
   "outputs": [],
   "source": [
    "import numpy as np\n",
    "import matplotlib.pyplot as plt\n",
    "import matplotlib.lines as mlines\n",
    "import pandas as pd\n",
    "\n",
    "import emcee\n",
    "import corner\n"
   ]
  },
  {
   "cell_type": "code",
   "execution_count": 8,
   "metadata": {},
   "outputs": [],
   "source": [
    "# Read LIGO dataset\n",
    "LIGO_data = pd.read_csv(r\"C:/Users/Slim 3/Desktop/AP157/LIGO.csv\")\n",
    "zLIGO = LIGO_data['zLIGO']\n",
    "dLLIGO = LIGO_data['dlLIGO']\n",
    "errLIGO = LIGO_data['errLIGO']\n",
    "\n",
    "# Read LISA dataset\n",
    "LISA_data = pd.read_csv(r\"C:/Users/Slim 3/Desktop/AP157/LISA.csv\")\n",
    "zLISA = LISA_data['zLISA']\n",
    "dLLISA = LISA_data['dlLISA']\n",
    "errLISA = LISA_data['errLISA']\n",
    "\n",
    "# Read ET dataset\n",
    "ET_data = pd.read_csv(r\"C:/Users/Slim 3/Desktop/AP157/ET.csv\")\n",
    "zET = ET_data['zET']\n",
    "dLET = ET_data['dlET']\n",
    "errET = ET_data['errET']"
   ]
  },
  {
   "cell_type": "markdown",
   "metadata": {
    "id": "Xz28sa5B9mpx"
   },
   "source": [
    "By the end of the lab assignment, you will generate constraints on the cosmological parameters H_0 and omega_m,0 for 3 samples: LIGO only, LIGO+LISA, and LIGO+LISA+ET (combined). You will generate a corner plot to visualize these constraints similar to the figure here: https://drive.google.com/file/d/18H7GPlox4ijS9qFbk1rHo-NW5N_Nsfer/view?usp=drive_link"
   ]
  },
  {
   "cell_type": "markdown",
   "metadata": {
    "id": "SqkP0l40aKHj"
   },
   "source": [
    "#### PART 1 - Generate Hubble Diagram *(20 points)*\n",
    "\n",
    "Make a Hubble diagram plot-- with luminosity distance (d_L) in the vertical axis and redshift (z) in the horizontal axis. Show the errors in d_L as error bars.\n",
    "\n",
    "Plot GW sirens from the 3 observatories in the same plot and include a legend. Briefly describe the difference between the samples from the 3 observatories."
   ]
  },
  {
   "cell_type": "code",
   "execution_count": 13,
   "metadata": {
    "id": "drqNxmsAayWH"
   },
   "outputs": [
    {
     "data": {
      "image/png": "[encoded data removed]",
      "text/plain": [
       "<Figure size 1080x360 with 1 Axes>"
      ]
     },
     "metadata": {
      "needs_background": "light"
     },
     "output_type": "display_data"
    }
   ],
   "source": [
    "plt.figure(figsize=(15, 5)) # setting figure dimensions\n",
    "\n",
    "plt.errorbar(zLIGO, dLLIGO, yerr=errLIGO, fmt='o', markersize=2, label='LIGO') # errorbar plot for LIGO\n",
    "plt.errorbar(zLISA, dLLISA, yerr=errLISA, fmt='o', markersize=2, label='LISA') # errorbar plot for LISA\n",
    "plt.errorbar(zET, dLET, yerr=errET, fmt='o', markersize=2, label='ET') # errorbar plot for ET\n",
    "\n",
    "plt.title('Hubble Diagram (LIGO vs. LISA vs. ET)', fontsize=15) # other plotting operations\n",
    "plt.xlabel('Redshift (z)', fontsize=13)\n",
    "plt.ylabel('Luminosity Distance', fontsize=13)\n",
    "plt.legend(fontsize=13)\n",
    "plt.grid()"
   ]
  },
  {
   "cell_type": "markdown",
   "metadata": {},
   "source": [
    "As observed in the plot we can see that the redshift and luminosity distance are linearly related. Which means that as the luminosity increases the redshift value also increases, and vice versa."
   ]
  },
  {
   "cell_type": "markdown",
   "metadata": {
    "id": "CPkkgWSqazmJ"
   },
   "source": [
    "#### PART 2 - Define likelihood functions *(20 points)*\n",
    "\n",
    "In this analysis, we will assume the cosmological model to be flat LambdaCDM universe. This is given by the `FlatLambdaCDM' model from the astropy.cosmology package. In particular, we use the model for the luminosity distance as a function of redshift, which is encoded in the luminosity_distance function.\n",
    "\n",
    "Below, define the chi-square and likelihood function to be used for the LIGO only and the LIGO+LISA dataset. You are asked to define the analogous functions for the LIGO+LISA+ET dataset. Note that the likelihood for the combined dataset is simply the sum of the likelihoods for the individual datasets.\n",
    "\n",
    "\n"
   ]
  },
  {
   "cell_type": "code",
   "execution_count": 39,
   "metadata": {
    "executionInfo": {
     "elapsed": 525,
     "status": "ok",
     "timestamp": 1715041458344,
     "user": {
      "displayName": "Reinabelle Reyes",
      "userId": "14517727005974422201"
     },
     "user_tz": -480
    },
    "id": "d40B1twMbw9Y"
   },
   "outputs": [],
   "source": [
    "from astropy.cosmology import FlatLambdaCDM"
   ]
  },
  {
   "cell_type": "code",
   "execution_count": 40,
   "metadata": {
    "executionInfo": {
     "elapsed": 3,
     "status": "ok",
     "timestamp": 1715041460442,
     "user": {
      "displayName": "Reinabelle Reyes",
      "userId": "14517727005974422201"
     },
     "user_tz": -480
    },
    "id": "lIFbFSTNbd9V"
   },
   "outputs": [],
   "source": [
    "def chi2LIGO_lcdm(H0, Om0):\n",
    "    cosmo = FlatLambdaCDM(H0=H0, Om0=Om0, Tcmb0=2.725)      # define cosmological model\n",
    "    model = np.array(cosmo.luminosity_distance(zLIGO)/1000) # converted from Gpc to Mpc units\n",
    "    dev = (model - np.array(dLLIGO))/np.array(errLIGO)      # deviations between model and data\n",
    "    chi2 = sum(dev**2)\n",
    "    return chi2\n",
    "\n",
    "def llikeLIGO_lcdm(H0, Om0):\n",
    "    if (H0 < 0) or (Om0 < 0)or (Om0 > 1):\n",
    "        return -np.inf                        # return inf if outside priors\n",
    "    else:\n",
    "        return -0.5*chi2LIGO_lcdm(H0, Om0)\n",
    "\n",
    "# LIGO + LISA\n",
    "def chi2LISA_lcdm(H0, Om0):\n",
    "    cosmo = FlatLambdaCDM(H0=H0, Om0=Om0, Tcmb0=2.725)\n",
    "    model = np.array(cosmo.luminosity_distance(zLISA)/1000)\n",
    "    dev = (model - np.array(dLLISA))/np.array(errLISA)\n",
    "    chi2 = sum(dev**2)\n",
    "    return chi2\n",
    "\n",
    "def llikeLIGOLISA_lcdm(H0, Om0):\n",
    "    if (H0 < 0) or (Om0 < 0)or (Om0 > 1):\n",
    "        return -np.inf\n",
    "    else:\n",
    "        return -0.5*(chi2LIGO_lcdm(H0, Om0) + chi2LISA_lcdm(H0, Om0))\n",
    "\n",
    "# the code that i put on this lower half is based on the provided code\n",
    "# LIGO + LISA + ET\n",
    "def chi2ET_lcdm(H0, Om0):\n",
    "    cosmo = FlatLambdaCDM(H0=H0, Om0=Om0, Tcmb0=2.725)\n",
    "    model = np.array(cosmo.luminosity_distance(zET)/1000)\n",
    "    dev = (model - np.array(dLET))/np.array(errET)\n",
    "    chi2 = sum(dev**2)\n",
    "    return chi2\n",
    "\n",
    "\n",
    "def llikeLIGOLISAET_lcdm(H0, Om0):\n",
    "    if (H0 < 0) or (Om0 < 0) or (Om0 > 1):\n",
    "        return -np.inf\n",
    "    else:\n",
    "        return -0.5*(chi2LIGO_lcdm(H0, Om0) + chi2LISA_lcdm(H0, Om0) + chi2ET_lcdm(H0, Om0))"
   ]
  },
  {
   "cell_type": "code",
   "execution_count": 41,
   "metadata": {},
   "outputs": [],
   "source": [
    "def lnprob_LIGO(x): #\n",
    "    H0, Om0 = x\n",
    "    return llikeLIGO_lcdm(H0, Om0)\n",
    "\n",
    "def lnprob_LIGOLISA(x):\n",
    "    H0, Om0 = x\n",
    "    return llikeLIGOLISA_lcdm(H0, Om0)\n",
    "\n",
    "def lnprob_LIGOLISAET(x):\n",
    "    H0, Om0 = x\n",
    "    return llikeLIGOLISAET_lcdm(H0, Om0)"
   ]
  },
  {
   "cell_type": "markdown",
   "metadata": {
    "id": "qz6HLhQE8UAh"
   },
   "source": [
    "#### PART 3 - Perform MCMC runs *(30 points)*\n",
    "\n",
    "Use the emcee library to set up and perform MCMC runs for the 3 samples: LIGO only, LIGO+LISA, and LIGO+LISA+ET combined.\n",
    "\n",
    "You can try the ff. parameters-- number of walkers (nwalkers) of 100 and number of iterations (niter) of 1,000 and number of burn-in samples (nburn) of 100.\n",
    "\n",
    "Note that the number of dimensions (ndim) is the number of parameters, equal to 2.\n",
    "\n",
    "For the methodology of stepping from one place of the grid to another, you can use:\n",
    "\n",
    "    dres = [0.1, 0.003] # step size for H_0 and omega_m,0, respectively\n",
    "    initial = np.array([70., 0.3])\n",
    "    p0 = [initial + dres * np.random.randn(ndim) for i in range(nwalkers)]\n",
    "\n",
    "For the 'lnprob' function equivalent, you can define (for example):\n",
    "\n",
    "    def lnprob(x):\n",
    "      '''params: H0, Om0 = x0, x1'''\n",
    "      return llikeLIGOLISA_lcdm(x[0], x[1])\n",
    "\n",
    "Also note that because in our definition of likelihood functions, the data is ``hard-coded'', you do not need to use the \"args\" keyword in the emcee.EnsembleSampler command."
   ]
  },
  {
   "cell_type": "code",
   "execution_count": 45,
   "metadata": {
    "id": "iGseIx73b9zd"
   },
   "outputs": [
    {
     "name": "stderr",
     "output_type": "stream",
     "text": [
      "100%|██████████| 1000/1000 [04:18<00:00,  3.87it/s]\n"
     ]
    }
   ],
   "source": [
    "nwalkers = 100\n",
    "niter = 1000\n",
    "nburn = 100\n",
    "ndim = 2\n",
    "\n",
    "dres = [0.1, 0.003]\n",
    "initial = np.array([70., 0.3])\n",
    "p0 = [initial + dres * np.random.randn(ndim) for i in range(nwalkers)]\n",
    "\n",
    "sampler_ligo = emcee.EnsembleSampler(nwalkers, ndim, lnprob_LIGO)\n",
    "sampler_ligo.run_mcmc(p0, niter, progress=True)\n",
    "samples_ligo = sampler_ligo.get_chain(discard=nburn,thin=2,flat=True) ## we had to flatten this because there where issues with having same dimensions"
   ]
  },
  {
   "cell_type": "code",
   "execution_count": 46,
   "metadata": {},
   "outputs": [
    {
     "name": "stderr",
     "output_type": "stream",
     "text": [
      "100%|██████████| 1000/1000 [08:27<00:00,  1.97it/s]\n"
     ]
    }
   ],
   "source": [
    "sampler_ligolisa = emcee.EnsembleSampler(nwalkers, ndim, lnprob_LIGOLISA)\n",
    "sampler_ligolisa.run_mcmc(p0, niter, progress=True)\n",
    "samples_ligolisa = sampler_ligolisa.get_chain(discard=nburn,thin=2,flat=True)"
   ]
  },
  {
   "cell_type": "code",
   "execution_count": 47,
   "metadata": {},
   "outputs": [
    {
     "name": "stderr",
     "output_type": "stream",
     "text": [
      "100%|██████████| 1000/1000 [21:12<00:00,  1.27s/it]\n"
     ]
    }
   ],
   "source": [
    "sampler_ligolisaet = emcee.EnsembleSampler(nwalkers, ndim, lnprob_LIGOLISAET)\n",
    "sampler_ligolisaet.run_mcmc(p0, niter, progress=True)\n",
    "samples_ligolisaet = sampler_ligolisaet.get_chain(discard=nburn,thin=2,flat=True)"
   ]
  },
  {
   "cell_type": "markdown",
   "metadata": {
    "id": "WAjESvPb8q3X"
   },
   "source": [
    "#### PART 4 - Generate corner plot to visualize the constraints *(30 points)*\n",
    "\n",
    "Overlay the results for the 3 samples for easy comparison. Your plot should resemble the figure here: https://drive.google.com/file/d/18H7GPlox4ijS9qFbk1rHo-NW5N_Nsfer/view?usp=drive_link\n",
    "\n",
    "Briefly describe the difference between the constraints obtained from the different samples."
   ]
  },
  {
   "cell_type": "code",
   "execution_count": 49,
   "metadata": {
    "id": "4_ITeJOM8uww"
   },
   "outputs": [
    {
     "data": {
      "image/png": "[encoded data removed]",
      "text/plain": [
       "<Figure size 396x396 with 4 Axes>"
      ]
     },
     "metadata": {
      "needs_background": "light"
     },
     "output_type": "display_data"
    }
   ],
   "source": [
    "labels = [r'$H_{0}$', '$\\Omega_{m0}$']\n",
    "\n",
    "fig_1 = corner.corner(samples_ligo,\n",
    "              labels=labels,\n",
    "              color='blue',\n",
    "              show_titles=True)\n",
    "fig_2 = corner.corner(samples_ligolisa,\n",
    "              labels=labels,\n",
    "              fig=fig_1,\n",
    "              color='green',\n",
    "              show_titles=True)\n",
    "fig_3 = corner.corner(samples_ligolisaet,\n",
    "              labels=labels,\n",
    "              fig=fig_2,\n",
    "              color='red',\n",
    "              show_titles=True)\n",
    "\n",
    "blue_line = mlines.Line2D([], [], color='blue', label='LIGO')\n",
    "green_line = mlines.Line2D([], [], color='green', label='LIGO + LISA')\n",
    "red_line = mlines.Line2D([], [], color='red', label='LIGO + LISA + ET')\n",
    "\n",
    "plt.legend(handles=[blue_line, green_line, red_line], bbox_to_anchor=(0.95, 1.25), loc=4)\n",
    "plt.show()\n"
   ]
  },
  {
   "cell_type": "markdown",
   "metadata": {},
   "source": [
    "Based on the subplots we can understand what this weird values indicate. Actually the $H_0$ is the hubble constant while $\\Omega_{m0}$ is an approximation of how much matter is the universe made of. Looking at the first subplot (top left), we can say that LIGO, LISA, and ET are good at approximating the hubble constant. Moving forward to the other subplots, looking at the 2nd subplot (lower left) we can see that the LIGO values are not that good in geeting how much matter the universe is made of ($\\Omega_{m0}$). To visualise it betterr we can try to look at the last subplot(lower right subplot). As we can see the graph of LIGO is almost like a straight line, which indicates that it wasnt able to quantify how much matter the universe is made of. The almost straight line plot means that there's an equal chance that the universe is made of 0% or 100% matter."
   ]
  }
 ],
 "metadata": {
  "colab": {
   "authorship_tag": "ABX9TyOyvOQHAJ/bHbwyigscEwCA",
   "provenance": []
  },
  "kernelspec": {
   "display_name": "Python 3 (ipykernel)",
   "language": "python",
   "name": "python3"
  },
  "language_info": {
   "codemirror_mode": {
    "name": "ipython",
    "version": 3
   },
   "file_extension": ".py",
   "mimetype": "text/x-python",
   "name": "python",
   "nbconvert_exporter": "python",
   "pygments_lexer": "ipython3",
   "version": "3.9.12"
  }
 },
 "nbformat": 4,
 "nbformat_minor": 1
}
