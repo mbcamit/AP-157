{
 "cells": [
  {
   "cell_type": "markdown",
   "metadata": {
    "id": "8u3wdhYhX6GF"
   },
   "source": [
    "# **AP157 Module C Lab Assignment**\n",
    "\n",
    "## Module C2: Monte Carlo Methods\n",
    "\n",
    "_Instructions_: Answer each part of the assignment as completely as you can. Discuss **all** your code and results as clearly and concisely as possible.\n",
    "\n",
    "_Scoring Criteria_: 50% - *correctness of code*; 50% - *discussion of the code and results*. Maximum score is **100 points**.\n",
    "\n",
    "_Credits_: This lab assignment is based on work by Dr. Reyes in collaboration with Gene Belinario and Dr. Reginald Bernardo."
   ]
  },
  {
   "cell_type": "markdown",
   "metadata": {
    "id": "x6QU0eeNYseY"
   },
   "source": [
    "### Student Information\n",
    "\n",
    "_Full Name (Last Name, First Name)_: Ma. Ezthelia Kaye B. Camit \\\n",
    "_Student No._: 2020-06594\\\n",
    "_Section_:"
   ]
  },
  {
   "cell_type": "markdown",
   "metadata": {
    "id": "GzwlHlFwYtbv"
   },
   "source": [
    "### Submission Information\n",
    "\n",
    "_Date and Time Submitted (most recent upload)_:\n",
    "\n",
    "**HONOR PLEDGE** I affirm that I have upheld the highest principles of honesty and integrity in my academic work and that this lab assignment is my own work.\n",
    "\n",
    "**Sign here with your full name: MA. EZTHELIA KAYE B. CAMIT**"
   ]
  },
  {
   "cell_type": "markdown",
   "metadata": {
    "id": "1as4IpTFYxfx"
   },
   "source": [
    "### Grading Information (c/o Instructor)\n",
    "\n",
    "TOTAL SCORE: **[]**/100\n",
    "\n",
    "Score breakdown:\n",
    "* Part 1 - []/20\n",
    "* Part 2 - []/20\n",
    "* Part 3 - []/30\n",
    "* Part 4 - []/30\n",
    "\n",
    "_Date and Time Scored (MM/DD/YYYY HH:MM AM/PM):_"
   ]
  },
  {
   "cell_type": "markdown",
   "metadata": {
    "id": "PB0N2FuuY3RU"
   },
   "source": [
    "In this lab assignment, you will generate constraints on cosmological parameters, the Hubble parameter H_0 and matter density Omega_m,0, from (synthetic) Hubble diagram data points from gravitational-wave (GW) sirens observed from 3 GW observatories: LIGO, LISA, and Einstein Telescope (ET).\n",
    "\n",
    "The datasets are in the Google Drive \"Datasets\" Folder under \"AP157_moduleC2\" subfolder: https://drive.google.com/drive/folders/1UnK1AggxdsjtG3PoOcyXfpahBcWjOBzj?usp=drive_link.\n",
    "\n",
    "Read in the 3 datasets from the CSV files: LIGO.csv, LISA.csv, ET.csv. The columns are redshift (z), luminosity distance (dL), and error in the luminosity distance (err). The distances are in units of Gpc (giga-parsecs).\n",
    "\n",
    "Load the data into variable names: zLIGO, dLLIGO, errLIGO, zLISA, dLLISA, errLISA, and zET, dLET, and errET, respectively. Note that these variable names will be used in later parts of the code, so you have to use these names for compatibility."
   ]
  },
  {
   "cell_type": "code",
   "execution_count": 13,
   "metadata": {
    "id": "wWNT09i67_zg",
    "scrolled": true
   },
   "outputs": [],
   "source": [
    "import pandas as pd\n",
    "\n",
    "# Read LIGO dataset\n",
    "LIGO_data = pd.read_csv(r\"C:\\Users\\Slim 3\\Desktop\\AP157\\LIGO.csv\")\n",
    "zLIGO = LIGO_data['zLIGO']\n",
    "dLLIGO = LIGO_data['dlLIGO']\n",
    "errLIGO = LIGO_data['errLIGO']\n",
    "\n",
    "# Read LISA dataset\n",
    "LISA_data = pd.read_csv(r\"C:\\Users\\Slim 3\\Desktop\\AP157\\LISA.csv\")\n",
    "zLISA = LISA_data['zLISA']\n",
    "dLLISA = LISA_data['dlLISA']\n",
    "errLISA = LISA_data['errLISA']\n",
    "\n",
    "# Read ET dataset\n",
    "ET_data = pd.read_csv(r\"C:\\Users\\Slim 3\\Desktop\\AP157\\ET.csv\")\n",
    "zET = ET_data['zET']\n",
    "dLET = ET_data['dlET']\n",
    "errET = ET_data['errET']"
   ]
  },
  {
   "cell_type": "code",
   "execution_count": 15,
   "metadata": {},
   "outputs": [
    {
     "name": "stdout",
     "output_type": "stream",
     "text": [
      "Index(['zLIGO', 'dlLIGO', 'errLIGO'], dtype='object')\n"
     ]
    }
   ],
   "source": [
    "print(LIGO_data.columns)"
   ]
  },
  {
   "cell_type": "markdown",
   "metadata": {
    "id": "Xz28sa5B9mpx"
   },
   "source": [
    "By the end of the lab assignment, you will generate constraints on the cosmological parameters H_0 and omega_m,0 for 3 samples: LIGO only, LIGO+LISA, and LIGO+LISA+ET (combined). You will generate a corner plot to visualize these constraints similar to the figure here: https://drive.google.com/file/d/18H7GPlox4ijS9qFbk1rHo-NW5N_Nsfer/view?usp=drive_link"
   ]
  },
  {
   "cell_type": "markdown",
   "metadata": {
    "id": "SqkP0l40aKHj"
   },
   "source": [
    "#### PART 1 - Generate Hubble Diagram *(20 points)*\n",
    "\n",
    "Make a Hubble diagram plot-- with luminosity distance (d_L) in the vertical axis and redshift (z) in the horizontal axis. Show the errors in d_L as error bars.\n",
    "\n",
    "Plot GW sirens from the 3 observatories in the same plot and include a legend. Briefly describe the difference between the samples from the 3 observatories."
   ]
  },
  {
   "cell_type": "code",
   "execution_count": 16,
   "metadata": {
    "id": "drqNxmsAayWH"
   },
   "outputs": [
    {
     "data": {
      "image/png": "[encoded data removed]",
      "text/plain": [
       "<Figure size 432x288 with 1 Axes>"
      ]
     },
     "metadata": {
      "needs_background": "light"
     },
     "output_type": "display_data"
    }
   ],
   "source": [
    "import matplotlib.pyplot as plt\n",
    "\n",
    "# Plot LIGO data\n",
    "plt.errorbar(zLIGO, dLLIGO, yerr=errLIGO, fmt='o', label='LIGO')\n",
    "\n",
    "# Plot LISA data\n",
    "plt.errorbar(zLISA, dLLISA, yerr=errLISA, fmt='o', label='LISA')\n",
    "\n",
    "# Plot ET data\n",
    "plt.errorbar(zET, dLET, yerr=errET, fmt='o', label='ET')\n",
    "\n",
    "# Set labels and title\n",
    "plt.xlabel('Redshift (z)')\n",
    "plt.ylabel('Luminosity Distance (Gpc)')\n",
    "plt.title('Hubble Diagram')\n",
    "\n",
    "# Add legend\n",
    "plt.legend()\n",
    "\n",
    "# Show plot\n",
    "plt.grid(True)\n",
    "plt.show()\n"
   ]
  },
  {
   "cell_type": "markdown",
   "metadata": {
    "id": "CPkkgWSqazmJ"
   },
   "source": [
    "#### PART 2 - Define likelihood functions *(20 points)*\n",
    "\n",
    "In this analysis, we will assume the cosmological model to be flat LambdaCDM universe. This is given by the `FlatLambdaCDM' model from the astropy.cosmology package. In particular, we use the model for the luminosity distance as a function of redshift, which is encoded in the luminosity_distance function.\n",
    "\n",
    "Below, define the chi-square and likelihood function to be used for the LIGO only and the LIGO+LISA dataset. You are asked to define the analogous functions for the LIGO+LISA+ET dataset. Note that the likelihood for the combined dataset is simply the sum of the likelihoods for the individual datasets.\n",
    "\n",
    "\n"
   ]
  },
  {
   "cell_type": "code",
   "execution_count": 17,
   "metadata": {
    "executionInfo": {
     "elapsed": 525,
     "status": "ok",
     "timestamp": 1715041458344,
     "user": {
      "displayName": "Reinabelle Reyes",
      "userId": "14517727005974422201"
     },
     "user_tz": -480
    },
    "id": "d40B1twMbw9Y"
   },
   "outputs": [],
   "source": [
    "from astropy.cosmology import FlatLambdaCDM"
   ]
  },
  {
   "cell_type": "code",
   "execution_count": 18,
   "metadata": {
    "executionInfo": {
     "elapsed": 3,
     "status": "ok",
     "timestamp": 1715041460442,
     "user": {
      "displayName": "Reinabelle Reyes",
      "userId": "14517727005974422201"
     },
     "user_tz": -480
    },
    "id": "lIFbFSTNbd9V"
   },
   "outputs": [
    {
     "ename": "IndentationError",
     "evalue": "expected an indented block (1719427456.py, line 32)",
     "output_type": "error",
     "traceback": [
      "\u001b[1;36m  Input \u001b[1;32mIn [18]\u001b[1;36m\u001b[0m\n\u001b[1;33m    def llikeLIGOLISAET_lcdm(H0, Om0):\u001b[0m\n\u001b[1;37m    ^\u001b[0m\n\u001b[1;31mIndentationError\u001b[0m\u001b[1;31m:\u001b[0m expected an indented block\n"
     ]
    }
   ],
   "source": [
    "def chi2LIGO_lcdm(H0, Om0):\n",
    "    cosmo = FlatLambdaCDM(H0=H0, Om0=Om0, Tcmb0=2.725)      # define cosmological model\n",
    "    model = np.array(cosmo.luminosity_distance(zLIGO)/1000) # converted from Gpc to Mpc units\n",
    "    dev = (model - np.array(dlLIGO))/np.array(errLIGO)      # deviations between model and data\n",
    "    chi2 = sum(dev**2)\n",
    "    return chi2\n",
    "\n",
    "def llikeLIGO_lcdm(H0, Om0):\n",
    "    if (H0 < 0) or (Om0 < 0):\n",
    "        return -np.inf                        # return inf if outside priors\n",
    "    else:\n",
    "        return -0.5*chi2LIGO_lcdm(H0, Om0)\n",
    "\n",
    "# LIGO + LISA\n",
    "def chi2LISA_lcdm(H0, Om0):\n",
    "    cosmo = FlatLambdaCDM(H0=H0, Om0=Om0, Tcmb0=2.725)\n",
    "    model = np.array(cosmo.luminosity_distance(zLISA)/1000)\n",
    "    dev = (model - np.array(dlLISA))/np.array(errLISA)\n",
    "    chi2 = sum(dev**2)\n",
    "    return chi2\n",
    "\n",
    "def llikeLIGOLISA_lcdm(H0, Om0):\n",
    "    if (H0 < 0) or (Om0 < 0):\n",
    "        return -np.inf\n",
    "    else:\n",
    "        return -0.5*(chi2LIGO_lcdm(H0, Om0) + chi2LISA_lcdm(H0, Om0))\n",
    "\n",
    "# LIGO + LISA + ET\n",
    "def chi2ET_lcdm(H0, Om0):\n",
    "    # insert code here\n",
    "\n",
    "def llikeLIGOLISAET_lcdm(H0, Om0):\n",
    "    # insert code here"
   ]
  },
  {
   "cell_type": "markdown",
   "metadata": {
    "id": "qz6HLhQE8UAh"
   },
   "source": [
    "#### PART 3 - Perform MCMC runs *(30 points)*\n",
    "\n",
    "Use the emcee library to set up and perform MCMC runs for the 3 samples: LIGO only, LIGO+LISA, and LIGO+LISA+ET combined.\n",
    "\n",
    "You can use number of walkers (nwalkers) of 6 and number of iterations (niter) of 5,000 and number of burn-in samples (nburn) of 100.\n"
   ]
  },
  {
   "cell_type": "code",
   "execution_count": 20,
   "metadata": {
    "id": "iGseIx73b9zd"
   },
   "outputs": [
    {
     "name": "stdout",
     "output_type": "stream",
     "text": [
      "emcee: Exception while calling your likelihood function:\n",
      "  params: [70.00013659  0.29993522]\n",
      "  args: (0     0.033270\n",
      "1     0.106210\n",
      "2     0.073820\n",
      "3     0.047333\n",
      "4     0.113966\n",
      "        ...   \n",
      "95    0.140751\n",
      "96    0.170735\n",
      "97    0.073560\n",
      "98    0.113640\n",
      "99    0.030374\n",
      "Name: zLIGO, Length: 100, dtype: float64, 0     0.101250\n",
      "1     0.698621\n",
      "2     0.338016\n",
      "3     0.206075\n",
      "4     0.401371\n",
      "        ...   \n",
      "95    0.607664\n",
      "96    1.064420\n",
      "97    0.278404\n",
      "98    0.456064\n",
      "99    0.081270\n",
      "Name: dlLIGO, Length: 100, dtype: float64, 0     0.026146\n",
      "1     0.137968\n",
      "2     0.067550\n",
      "3     0.034506\n",
      "4     0.159718\n",
      "        ...   \n",
      "95    0.249926\n",
      "96    0.380081\n",
      "97    0.067117\n",
      "98    0.158766\n",
      "99    0.025129\n",
      "Name: errLIGO, Length: 100, dtype: float64)\n",
      "  kwargs: {}\n",
      "  exception:\n"
     ]
    },
    {
     "name": "stderr",
     "output_type": "stream",
     "text": [
      "Traceback (most recent call last):\n",
      "  File \"C:\\Users\\Slim 3\\anaconda3\\lib\\site-packages\\emcee\\ensemble.py\", line 640, in __call__\n",
      "    return self.f(x, *self.args, **self.kwargs)\n",
      "  File \"C:\\Users\\Slim 3\\AppData\\Local\\Temp\\ipykernel_13716\\3515866776.py\", line 23, in log_posterior\n",
      "    return lp + log_likelihood(theta, z, dL, err)\n",
      "  File \"C:\\Users\\Slim 3\\AppData\\Local\\Temp\\ipykernel_13716\\3515866776.py\", line 9, in log_likelihood\n",
      "    return -0.5 * np.sum((dL - dL_theory)**2 / sigma2 + np.log(sigma2))\n",
      "  File \"C:\\Users\\Slim 3\\anaconda3\\lib\\site-packages\\pandas\\core\\ops\\common.py\", line 70, in new_method\n",
      "    return method(self, other)\n",
      "  File \"C:\\Users\\Slim 3\\anaconda3\\lib\\site-packages\\pandas\\core\\arraylike.py\", line 108, in __sub__\n",
      "    return self._arith_method(other, operator.sub)\n",
      "  File \"C:\\Users\\Slim 3\\anaconda3\\lib\\site-packages\\pandas\\core\\series.py\", line 5639, in _arith_method\n",
      "    return base.IndexOpsMixin._arith_method(self, other, op)\n",
      "  File \"C:\\Users\\Slim 3\\anaconda3\\lib\\site-packages\\pandas\\core\\base.py\", line 1295, in _arith_method\n",
      "    result = ops.arithmetic_op(lvalues, rvalues, op)\n",
      "  File \"C:\\Users\\Slim 3\\anaconda3\\lib\\site-packages\\pandas\\core\\ops\\array_ops.py\", line 222, in arithmetic_op\n",
      "    res_values = _na_arithmetic_op(left, right, op)\n",
      "  File \"C:\\Users\\Slim 3\\anaconda3\\lib\\site-packages\\pandas\\core\\ops\\array_ops.py\", line 163, in _na_arithmetic_op\n",
      "    result = func(left, right)\n",
      "  File \"C:\\Users\\Slim 3\\anaconda3\\lib\\site-packages\\pandas\\core\\computation\\expressions.py\", line 239, in evaluate\n",
      "    return _evaluate(op, op_str, a, b)  # type: ignore[misc]\n",
      "  File \"C:\\Users\\Slim 3\\anaconda3\\lib\\site-packages\\pandas\\core\\computation\\expressions.py\", line 128, in _evaluate_numexpr\n",
      "    result = _evaluate_standard(op, op_str, a, b)\n",
      "  File \"C:\\Users\\Slim 3\\anaconda3\\lib\\site-packages\\pandas\\core\\computation\\expressions.py\", line 69, in _evaluate_standard\n",
      "    return op(a, b)\n",
      "TypeError: unsupported operand type(s) for -: 'float' and 'NoneType'\n"
     ]
    },
    {
     "ename": "TypeError",
     "evalue": "unsupported operand type(s) for -: 'float' and 'NoneType'",
     "output_type": "error",
     "traceback": [
      "\u001b[1;31m---------------------------------------------------------------------------\u001b[0m",
      "\u001b[1;31mTypeError\u001b[0m                                 Traceback (most recent call last)",
      "Input \u001b[1;32mIn [20]\u001b[0m, in \u001b[0;36m<cell line: 47>\u001b[1;34m()\u001b[0m\n\u001b[0;32m     47\u001b[0m \u001b[38;5;28;01mfor\u001b[39;00m data \u001b[38;5;129;01min\u001b[39;00m data_samples:\n\u001b[0;32m     48\u001b[0m     sampler \u001b[38;5;241m=\u001b[39m emcee\u001b[38;5;241m.\u001b[39mEnsembleSampler(nwalkers, ndim, log_posterior, args\u001b[38;5;241m=\u001b[39mdata)\n\u001b[1;32m---> 49\u001b[0m     \u001b[43msampler\u001b[49m\u001b[38;5;241;43m.\u001b[39;49m\u001b[43mrun_mcmc\u001b[49m\u001b[43m(\u001b[49m\u001b[43mpos\u001b[49m\u001b[43m,\u001b[49m\u001b[43m \u001b[49m\u001b[43mniter\u001b[49m\u001b[43m,\u001b[49m\u001b[43m \u001b[49m\u001b[43mprogress\u001b[49m\u001b[38;5;241;43m=\u001b[39;49m\u001b[38;5;28;43;01mTrue\u001b[39;49;00m\u001b[43m)\u001b[49m\n\u001b[0;32m     50\u001b[0m     samples \u001b[38;5;241m=\u001b[39m sampler\u001b[38;5;241m.\u001b[39mget_chain(discard\u001b[38;5;241m=\u001b[39mnburn, thin\u001b[38;5;241m=\u001b[39m\u001b[38;5;241m15\u001b[39m, flat\u001b[38;5;241m=\u001b[39m\u001b[38;5;28;01mTrue\u001b[39;00m)  \u001b[38;5;66;03m# Discard burn-in and thin samples\u001b[39;00m\n\u001b[0;32m     51\u001b[0m     sampler_results\u001b[38;5;241m.\u001b[39mappend(samples)\n",
      "File \u001b[1;32m~\\anaconda3\\lib\\site-packages\\emcee\\ensemble.py:450\u001b[0m, in \u001b[0;36mEnsembleSampler.run_mcmc\u001b[1;34m(self, initial_state, nsteps, **kwargs)\u001b[0m\n\u001b[0;32m    447\u001b[0m     initial_state \u001b[38;5;241m=\u001b[39m \u001b[38;5;28mself\u001b[39m\u001b[38;5;241m.\u001b[39m_previous_state\n\u001b[0;32m    449\u001b[0m results \u001b[38;5;241m=\u001b[39m \u001b[38;5;28;01mNone\u001b[39;00m\n\u001b[1;32m--> 450\u001b[0m \u001b[38;5;28;01mfor\u001b[39;00m results \u001b[38;5;129;01min\u001b[39;00m \u001b[38;5;28mself\u001b[39m\u001b[38;5;241m.\u001b[39msample(initial_state, iterations\u001b[38;5;241m=\u001b[39mnsteps, \u001b[38;5;241m*\u001b[39m\u001b[38;5;241m*\u001b[39mkwargs):\n\u001b[0;32m    451\u001b[0m     \u001b[38;5;28;01mpass\u001b[39;00m\n\u001b[0;32m    453\u001b[0m \u001b[38;5;66;03m# Store so that the ``initial_state=None`` case will work\u001b[39;00m\n",
      "File \u001b[1;32m~\\anaconda3\\lib\\site-packages\\emcee\\ensemble.py:351\u001b[0m, in \u001b[0;36mEnsembleSampler.sample\u001b[1;34m(self, initial_state, log_prob0, rstate0, blobs0, iterations, tune, skip_initial_state_check, thin_by, thin, store, progress, progress_kwargs)\u001b[0m\n\u001b[0;32m    349\u001b[0m     state\u001b[38;5;241m.\u001b[39mblobs \u001b[38;5;241m=\u001b[39m blobs0\n\u001b[0;32m    350\u001b[0m \u001b[38;5;28;01mif\u001b[39;00m state\u001b[38;5;241m.\u001b[39mlog_prob \u001b[38;5;129;01mis\u001b[39;00m \u001b[38;5;28;01mNone\u001b[39;00m:\n\u001b[1;32m--> 351\u001b[0m     state\u001b[38;5;241m.\u001b[39mlog_prob, state\u001b[38;5;241m.\u001b[39mblobs \u001b[38;5;241m=\u001b[39m \u001b[38;5;28;43mself\u001b[39;49m\u001b[38;5;241;43m.\u001b[39;49m\u001b[43mcompute_log_prob\u001b[49m\u001b[43m(\u001b[49m\u001b[43mstate\u001b[49m\u001b[38;5;241;43m.\u001b[39;49m\u001b[43mcoords\u001b[49m\u001b[43m)\u001b[49m\n\u001b[0;32m    352\u001b[0m \u001b[38;5;28;01mif\u001b[39;00m np\u001b[38;5;241m.\u001b[39mshape(state\u001b[38;5;241m.\u001b[39mlog_prob) \u001b[38;5;241m!=\u001b[39m (\u001b[38;5;28mself\u001b[39m\u001b[38;5;241m.\u001b[39mnwalkers,):\n\u001b[0;32m    353\u001b[0m     \u001b[38;5;28;01mraise\u001b[39;00m \u001b[38;5;167;01mValueError\u001b[39;00m(\u001b[38;5;124m\"\u001b[39m\u001b[38;5;124mincompatible input dimensions\u001b[39m\u001b[38;5;124m\"\u001b[39m)\n",
      "File \u001b[1;32m~\\anaconda3\\lib\\site-packages\\emcee\\ensemble.py:496\u001b[0m, in \u001b[0;36mEnsembleSampler.compute_log_prob\u001b[1;34m(self, coords)\u001b[0m\n\u001b[0;32m    494\u001b[0m     \u001b[38;5;28;01melse\u001b[39;00m:\n\u001b[0;32m    495\u001b[0m         map_func \u001b[38;5;241m=\u001b[39m \u001b[38;5;28mmap\u001b[39m\n\u001b[1;32m--> 496\u001b[0m     results \u001b[38;5;241m=\u001b[39m \u001b[38;5;28;43mlist\u001b[39;49m\u001b[43m(\u001b[49m\u001b[43mmap_func\u001b[49m\u001b[43m(\u001b[49m\u001b[38;5;28;43mself\u001b[39;49m\u001b[38;5;241;43m.\u001b[39;49m\u001b[43mlog_prob_fn\u001b[49m\u001b[43m,\u001b[49m\u001b[43m \u001b[49m\u001b[43mp\u001b[49m\u001b[43m)\u001b[49m\u001b[43m)\u001b[49m\n\u001b[0;32m    498\u001b[0m \u001b[38;5;28;01mtry\u001b[39;00m:\n\u001b[0;32m    499\u001b[0m     \u001b[38;5;66;03m# perhaps log_prob_fn returns blobs?\u001b[39;00m\n\u001b[0;32m    500\u001b[0m \n\u001b[1;32m   (...)\u001b[0m\n\u001b[0;32m    504\u001b[0m     \u001b[38;5;66;03m# l is a length-1 array, np.array([1.234]). In that case blob\u001b[39;00m\n\u001b[0;32m    505\u001b[0m     \u001b[38;5;66;03m# will become an empty list.\u001b[39;00m\n\u001b[0;32m    506\u001b[0m     blob \u001b[38;5;241m=\u001b[39m [l[\u001b[38;5;241m1\u001b[39m:] \u001b[38;5;28;01mfor\u001b[39;00m l \u001b[38;5;129;01min\u001b[39;00m results \u001b[38;5;28;01mif\u001b[39;00m \u001b[38;5;28mlen\u001b[39m(l) \u001b[38;5;241m>\u001b[39m \u001b[38;5;241m1\u001b[39m]\n",
      "File \u001b[1;32m~\\anaconda3\\lib\\site-packages\\emcee\\ensemble.py:640\u001b[0m, in \u001b[0;36m_FunctionWrapper.__call__\u001b[1;34m(self, x)\u001b[0m\n\u001b[0;32m    638\u001b[0m \u001b[38;5;28;01mdef\u001b[39;00m \u001b[38;5;21m__call__\u001b[39m(\u001b[38;5;28mself\u001b[39m, x):\n\u001b[0;32m    639\u001b[0m     \u001b[38;5;28;01mtry\u001b[39;00m:\n\u001b[1;32m--> 640\u001b[0m         \u001b[38;5;28;01mreturn\u001b[39;00m \u001b[38;5;28mself\u001b[39m\u001b[38;5;241m.\u001b[39mf(x, \u001b[38;5;241m*\u001b[39m\u001b[38;5;28mself\u001b[39m\u001b[38;5;241m.\u001b[39margs, \u001b[38;5;241m*\u001b[39m\u001b[38;5;241m*\u001b[39m\u001b[38;5;28mself\u001b[39m\u001b[38;5;241m.\u001b[39mkwargs)\n\u001b[0;32m    641\u001b[0m     \u001b[38;5;28;01mexcept\u001b[39;00m:  \u001b[38;5;66;03m# pragma: no cover\u001b[39;00m\n\u001b[0;32m    642\u001b[0m         \u001b[38;5;28;01mimport\u001b[39;00m \u001b[38;5;21;01mtraceback\u001b[39;00m\n",
      "Input \u001b[1;32mIn [20]\u001b[0m, in \u001b[0;36mlog_posterior\u001b[1;34m(theta, z, dL, err)\u001b[0m\n\u001b[0;32m     21\u001b[0m \u001b[38;5;28;01mif\u001b[39;00m \u001b[38;5;129;01mnot\u001b[39;00m np\u001b[38;5;241m.\u001b[39misfinite(lp):\n\u001b[0;32m     22\u001b[0m     \u001b[38;5;28;01mreturn\u001b[39;00m \u001b[38;5;241m-\u001b[39mnp\u001b[38;5;241m.\u001b[39minf\n\u001b[1;32m---> 23\u001b[0m \u001b[38;5;28;01mreturn\u001b[39;00m lp \u001b[38;5;241m+\u001b[39m \u001b[43mlog_likelihood\u001b[49m\u001b[43m(\u001b[49m\u001b[43mtheta\u001b[49m\u001b[43m,\u001b[49m\u001b[43m \u001b[49m\u001b[43mz\u001b[49m\u001b[43m,\u001b[49m\u001b[43m \u001b[49m\u001b[43mdL\u001b[49m\u001b[43m,\u001b[49m\u001b[43m \u001b[49m\u001b[43merr\u001b[49m\u001b[43m)\u001b[49m\n",
      "Input \u001b[1;32mIn [20]\u001b[0m, in \u001b[0;36mlog_likelihood\u001b[1;34m(theta, z, dL, err)\u001b[0m\n\u001b[0;32m      7\u001b[0m dL_theory \u001b[38;5;241m=\u001b[39m cosmological_model(H0, Omega_m, z)  \u001b[38;5;66;03m# Define your cosmological model function\u001b[39;00m\n\u001b[0;32m      8\u001b[0m sigma2 \u001b[38;5;241m=\u001b[39m err\u001b[38;5;241m*\u001b[39m\u001b[38;5;241m*\u001b[39m\u001b[38;5;241m2\u001b[39m\n\u001b[1;32m----> 9\u001b[0m \u001b[38;5;28;01mreturn\u001b[39;00m \u001b[38;5;241m-\u001b[39m\u001b[38;5;241m0.5\u001b[39m \u001b[38;5;241m*\u001b[39m np\u001b[38;5;241m.\u001b[39msum((\u001b[43mdL\u001b[49m\u001b[43m \u001b[49m\u001b[38;5;241;43m-\u001b[39;49m\u001b[43m \u001b[49m\u001b[43mdL_theory\u001b[49m)\u001b[38;5;241m*\u001b[39m\u001b[38;5;241m*\u001b[39m\u001b[38;5;241m2\u001b[39m \u001b[38;5;241m/\u001b[39m sigma2 \u001b[38;5;241m+\u001b[39m np\u001b[38;5;241m.\u001b[39mlog(sigma2))\n",
      "File \u001b[1;32m~\\anaconda3\\lib\\site-packages\\pandas\\core\\ops\\common.py:70\u001b[0m, in \u001b[0;36m_unpack_zerodim_and_defer.<locals>.new_method\u001b[1;34m(self, other)\u001b[0m\n\u001b[0;32m     66\u001b[0m             \u001b[38;5;28;01mreturn\u001b[39;00m \u001b[38;5;28mNotImplemented\u001b[39m\n\u001b[0;32m     68\u001b[0m other \u001b[38;5;241m=\u001b[39m item_from_zerodim(other)\n\u001b[1;32m---> 70\u001b[0m \u001b[38;5;28;01mreturn\u001b[39;00m \u001b[43mmethod\u001b[49m\u001b[43m(\u001b[49m\u001b[38;5;28;43mself\u001b[39;49m\u001b[43m,\u001b[49m\u001b[43m \u001b[49m\u001b[43mother\u001b[49m\u001b[43m)\u001b[49m\n",
      "File \u001b[1;32m~\\anaconda3\\lib\\site-packages\\pandas\\core\\arraylike.py:108\u001b[0m, in \u001b[0;36mOpsMixin.__sub__\u001b[1;34m(self, other)\u001b[0m\n\u001b[0;32m    106\u001b[0m \u001b[38;5;129m@unpack_zerodim_and_defer\u001b[39m(\u001b[38;5;124m\"\u001b[39m\u001b[38;5;124m__sub__\u001b[39m\u001b[38;5;124m\"\u001b[39m)\n\u001b[0;32m    107\u001b[0m \u001b[38;5;28;01mdef\u001b[39;00m \u001b[38;5;21m__sub__\u001b[39m(\u001b[38;5;28mself\u001b[39m, other):\n\u001b[1;32m--> 108\u001b[0m     \u001b[38;5;28;01mreturn\u001b[39;00m \u001b[38;5;28;43mself\u001b[39;49m\u001b[38;5;241;43m.\u001b[39;49m\u001b[43m_arith_method\u001b[49m\u001b[43m(\u001b[49m\u001b[43mother\u001b[49m\u001b[43m,\u001b[49m\u001b[43m \u001b[49m\u001b[43moperator\u001b[49m\u001b[38;5;241;43m.\u001b[39;49m\u001b[43msub\u001b[49m\u001b[43m)\u001b[49m\n",
      "File \u001b[1;32m~\\anaconda3\\lib\\site-packages\\pandas\\core\\series.py:5639\u001b[0m, in \u001b[0;36mSeries._arith_method\u001b[1;34m(self, other, op)\u001b[0m\n\u001b[0;32m   5637\u001b[0m \u001b[38;5;28;01mdef\u001b[39;00m \u001b[38;5;21m_arith_method\u001b[39m(\u001b[38;5;28mself\u001b[39m, other, op):\n\u001b[0;32m   5638\u001b[0m     \u001b[38;5;28mself\u001b[39m, other \u001b[38;5;241m=\u001b[39m ops\u001b[38;5;241m.\u001b[39malign_method_SERIES(\u001b[38;5;28mself\u001b[39m, other)\n\u001b[1;32m-> 5639\u001b[0m     \u001b[38;5;28;01mreturn\u001b[39;00m \u001b[43mbase\u001b[49m\u001b[38;5;241;43m.\u001b[39;49m\u001b[43mIndexOpsMixin\u001b[49m\u001b[38;5;241;43m.\u001b[39;49m\u001b[43m_arith_method\u001b[49m\u001b[43m(\u001b[49m\u001b[38;5;28;43mself\u001b[39;49m\u001b[43m,\u001b[49m\u001b[43m \u001b[49m\u001b[43mother\u001b[49m\u001b[43m,\u001b[49m\u001b[43m \u001b[49m\u001b[43mop\u001b[49m\u001b[43m)\u001b[49m\n",
      "File \u001b[1;32m~\\anaconda3\\lib\\site-packages\\pandas\\core\\base.py:1295\u001b[0m, in \u001b[0;36mIndexOpsMixin._arith_method\u001b[1;34m(self, other, op)\u001b[0m\n\u001b[0;32m   1292\u001b[0m rvalues \u001b[38;5;241m=\u001b[39m ensure_wrapped_if_datetimelike(rvalues)\n\u001b[0;32m   1294\u001b[0m \u001b[38;5;28;01mwith\u001b[39;00m np\u001b[38;5;241m.\u001b[39merrstate(\u001b[38;5;28mall\u001b[39m\u001b[38;5;241m=\u001b[39m\u001b[38;5;124m\"\u001b[39m\u001b[38;5;124mignore\u001b[39m\u001b[38;5;124m\"\u001b[39m):\n\u001b[1;32m-> 1295\u001b[0m     result \u001b[38;5;241m=\u001b[39m \u001b[43mops\u001b[49m\u001b[38;5;241;43m.\u001b[39;49m\u001b[43marithmetic_op\u001b[49m\u001b[43m(\u001b[49m\u001b[43mlvalues\u001b[49m\u001b[43m,\u001b[49m\u001b[43m \u001b[49m\u001b[43mrvalues\u001b[49m\u001b[43m,\u001b[49m\u001b[43m \u001b[49m\u001b[43mop\u001b[49m\u001b[43m)\u001b[49m\n\u001b[0;32m   1297\u001b[0m \u001b[38;5;28;01mreturn\u001b[39;00m \u001b[38;5;28mself\u001b[39m\u001b[38;5;241m.\u001b[39m_construct_result(result, name\u001b[38;5;241m=\u001b[39mres_name)\n",
      "File \u001b[1;32m~\\anaconda3\\lib\\site-packages\\pandas\\core\\ops\\array_ops.py:222\u001b[0m, in \u001b[0;36marithmetic_op\u001b[1;34m(left, right, op)\u001b[0m\n\u001b[0;32m    217\u001b[0m \u001b[38;5;28;01melse\u001b[39;00m:\n\u001b[0;32m    218\u001b[0m     \u001b[38;5;66;03m# TODO we should handle EAs consistently and move this check before the if/else\u001b[39;00m\n\u001b[0;32m    219\u001b[0m     \u001b[38;5;66;03m# (https://github.com/pandas-dev/pandas/issues/41165)\u001b[39;00m\n\u001b[0;32m    220\u001b[0m     _bool_arith_check(op, left, right)\n\u001b[1;32m--> 222\u001b[0m     res_values \u001b[38;5;241m=\u001b[39m \u001b[43m_na_arithmetic_op\u001b[49m\u001b[43m(\u001b[49m\u001b[43mleft\u001b[49m\u001b[43m,\u001b[49m\u001b[43m \u001b[49m\u001b[43mright\u001b[49m\u001b[43m,\u001b[49m\u001b[43m \u001b[49m\u001b[43mop\u001b[49m\u001b[43m)\u001b[49m\n\u001b[0;32m    224\u001b[0m \u001b[38;5;28;01mreturn\u001b[39;00m res_values\n",
      "File \u001b[1;32m~\\anaconda3\\lib\\site-packages\\pandas\\core\\ops\\array_ops.py:163\u001b[0m, in \u001b[0;36m_na_arithmetic_op\u001b[1;34m(left, right, op, is_cmp)\u001b[0m\n\u001b[0;32m    160\u001b[0m     func \u001b[38;5;241m=\u001b[39m partial(expressions\u001b[38;5;241m.\u001b[39mevaluate, op)\n\u001b[0;32m    162\u001b[0m \u001b[38;5;28;01mtry\u001b[39;00m:\n\u001b[1;32m--> 163\u001b[0m     result \u001b[38;5;241m=\u001b[39m \u001b[43mfunc\u001b[49m\u001b[43m(\u001b[49m\u001b[43mleft\u001b[49m\u001b[43m,\u001b[49m\u001b[43m \u001b[49m\u001b[43mright\u001b[49m\u001b[43m)\u001b[49m\n\u001b[0;32m    164\u001b[0m \u001b[38;5;28;01mexcept\u001b[39;00m \u001b[38;5;167;01mTypeError\u001b[39;00m:\n\u001b[0;32m    165\u001b[0m     \u001b[38;5;28;01mif\u001b[39;00m \u001b[38;5;129;01mnot\u001b[39;00m is_cmp \u001b[38;5;129;01mand\u001b[39;00m (is_object_dtype(left\u001b[38;5;241m.\u001b[39mdtype) \u001b[38;5;129;01mor\u001b[39;00m is_object_dtype(right)):\n\u001b[0;32m    166\u001b[0m         \u001b[38;5;66;03m# For object dtype, fallback to a masked operation (only operating\u001b[39;00m\n\u001b[0;32m    167\u001b[0m         \u001b[38;5;66;03m#  on the non-missing values)\u001b[39;00m\n\u001b[0;32m    168\u001b[0m         \u001b[38;5;66;03m# Don't do this for comparisons, as that will handle complex numbers\u001b[39;00m\n\u001b[0;32m    169\u001b[0m         \u001b[38;5;66;03m#  incorrectly, see GH#32047\u001b[39;00m\n",
      "File \u001b[1;32m~\\anaconda3\\lib\\site-packages\\pandas\\core\\computation\\expressions.py:239\u001b[0m, in \u001b[0;36mevaluate\u001b[1;34m(op, a, b, use_numexpr)\u001b[0m\n\u001b[0;32m    236\u001b[0m \u001b[38;5;28;01mif\u001b[39;00m op_str \u001b[38;5;129;01mis\u001b[39;00m \u001b[38;5;129;01mnot\u001b[39;00m \u001b[38;5;28;01mNone\u001b[39;00m:\n\u001b[0;32m    237\u001b[0m     \u001b[38;5;28;01mif\u001b[39;00m use_numexpr:\n\u001b[0;32m    238\u001b[0m         \u001b[38;5;66;03m# error: \"None\" not callable\u001b[39;00m\n\u001b[1;32m--> 239\u001b[0m         \u001b[38;5;28;01mreturn\u001b[39;00m \u001b[43m_evaluate\u001b[49m\u001b[43m(\u001b[49m\u001b[43mop\u001b[49m\u001b[43m,\u001b[49m\u001b[43m \u001b[49m\u001b[43mop_str\u001b[49m\u001b[43m,\u001b[49m\u001b[43m \u001b[49m\u001b[43ma\u001b[49m\u001b[43m,\u001b[49m\u001b[43m \u001b[49m\u001b[43mb\u001b[49m\u001b[43m)\u001b[49m  \u001b[38;5;66;03m# type: ignore[misc]\u001b[39;00m\n\u001b[0;32m    240\u001b[0m \u001b[38;5;28;01mreturn\u001b[39;00m _evaluate_standard(op, op_str, a, b)\n",
      "File \u001b[1;32m~\\anaconda3\\lib\\site-packages\\pandas\\core\\computation\\expressions.py:128\u001b[0m, in \u001b[0;36m_evaluate_numexpr\u001b[1;34m(op, op_str, a, b)\u001b[0m\n\u001b[0;32m    125\u001b[0m     _store_test_result(result \u001b[38;5;129;01mis\u001b[39;00m \u001b[38;5;129;01mnot\u001b[39;00m \u001b[38;5;28;01mNone\u001b[39;00m)\n\u001b[0;32m    127\u001b[0m \u001b[38;5;28;01mif\u001b[39;00m result \u001b[38;5;129;01mis\u001b[39;00m \u001b[38;5;28;01mNone\u001b[39;00m:\n\u001b[1;32m--> 128\u001b[0m     result \u001b[38;5;241m=\u001b[39m \u001b[43m_evaluate_standard\u001b[49m\u001b[43m(\u001b[49m\u001b[43mop\u001b[49m\u001b[43m,\u001b[49m\u001b[43m \u001b[49m\u001b[43mop_str\u001b[49m\u001b[43m,\u001b[49m\u001b[43m \u001b[49m\u001b[43ma\u001b[49m\u001b[43m,\u001b[49m\u001b[43m \u001b[49m\u001b[43mb\u001b[49m\u001b[43m)\u001b[49m\n\u001b[0;32m    130\u001b[0m \u001b[38;5;28;01mreturn\u001b[39;00m result\n",
      "File \u001b[1;32m~\\anaconda3\\lib\\site-packages\\pandas\\core\\computation\\expressions.py:69\u001b[0m, in \u001b[0;36m_evaluate_standard\u001b[1;34m(op, op_str, a, b)\u001b[0m\n\u001b[0;32m     67\u001b[0m \u001b[38;5;28;01mif\u001b[39;00m _TEST_MODE:\n\u001b[0;32m     68\u001b[0m     _store_test_result(\u001b[38;5;28;01mFalse\u001b[39;00m)\n\u001b[1;32m---> 69\u001b[0m \u001b[38;5;28;01mreturn\u001b[39;00m \u001b[43mop\u001b[49m\u001b[43m(\u001b[49m\u001b[43ma\u001b[49m\u001b[43m,\u001b[49m\u001b[43m \u001b[49m\u001b[43mb\u001b[49m\u001b[43m)\u001b[49m\n",
      "\u001b[1;31mTypeError\u001b[0m: unsupported operand type(s) for -: 'float' and 'NoneType'"
     ]
    }
   ],
   "source": [
    "import emcee\n",
    "import numpy as np\n",
    "\n",
    "# Define log likelihood function\n",
    "def log_likelihood(theta, z, dL, err):\n",
    "    H0, Omega_m = theta\n",
    "    dL_theory = cosmological_model(H0, Omega_m, z)  # Define your cosmological model function\n",
    "    sigma2 = err**2\n",
    "    return -0.5 * np.sum((dL - dL_theory)**2 / sigma2 + np.log(sigma2))\n",
    "\n",
    "# Define log prior function\n",
    "def log_prior(theta):\n",
    "    H0, Omega_m = theta\n",
    "    if 0 < H0 < 200 and 0 < Omega_m < 1:\n",
    "        return 0.0\n",
    "    return -np.inf\n",
    "\n",
    "# Define log posterior function\n",
    "def log_posterior(theta, z, dL, err):\n",
    "    lp = log_prior(theta)\n",
    "    if not np.isfinite(lp):\n",
    "        return -np.inf\n",
    "    return lp + log_likelihood(theta, z, dL, err)\n",
    "\n",
    "# Define cosmological model function\n",
    "def cosmological_model(H0, Omega_m, z):\n",
    "    # Define your cosmological model here (e.g., luminosity distance calculation)\n",
    "    pass\n",
    "\n",
    "# Define initial parameter values and number of parameters\n",
    "initial_guess = [70, 0.3]  # Initial guess for H0 and Omega_m\n",
    "ndim = len(initial_guess)\n",
    "\n",
    "# Define number of walkers, iterations, and burn-in\n",
    "nwalkers = 6\n",
    "niter = 5000\n",
    "nburn = 100\n",
    "\n",
    "# Initialize walkers\n",
    "pos = [initial_guess + 1e-4*np.random.randn(ndim) for _ in range(nwalkers)]\n",
    "\n",
    "# Define data for each sample (LIGO only, LIGO+LISA, LIGO+LISA+ET)\n",
    "data_samples = [(zLIGO, dLLIGO, errLIGO), (zLIGO + zLISA, dLLIGO + dLLISA, np.sqrt(errLIGO**2 + errLISA**2)), (zLIGO + zLISA + zET, dLLIGO + dLLISA + dLET, np.sqrt(errLIGO**2 + errLISA**2 + errET**2))]\n",
    "\n",
    "# Perform MCMC runs for each sample\n",
    "sampler_results = []\n",
    "for data in data_samples:\n",
    "    sampler = emcee.EnsembleSampler(nwalkers, ndim, log_posterior, args=data)\n",
    "    sampler.run_mcmc(pos, niter, progress=True)\n",
    "    samples = sampler.get_chain(discard=nburn, thin=15, flat=True)  # Discard burn-in and thin samples\n",
    "    sampler_results.append(samples)\n",
    "\n",
    "# Access the MCMC samples for each sample if needed\n",
    "samples_LIGO_only, samples_LIGO_LISA, samples_LIGO_LISA_ET = sampler_results\n"
   ]
  },
  {
   "cell_type": "markdown",
   "metadata": {
    "id": "WAjESvPb8q3X"
   },
   "source": [
    "#### PART 4 - Generate corner plot to visualize the constraints *(30 points)*\n",
    "\n",
    "Overlay the results for the 3 samples for easy comparison. Your plot should resemble the figure here: https://drive.google.com/file/d/18H7GPlox4ijS9qFbk1rHo-NW5N_Nsfer/view?usp=drive_link\n",
    "\n",
    "Briefly describe the difference between the constraints obtained from the different samples."
   ]
  },
  {
   "cell_type": "code",
   "execution_count": null,
   "metadata": {
    "id": "4_ITeJOM8uww"
   },
   "outputs": [],
   "source": []
  }
 ],
 "metadata": {
  "colab": {
   "authorship_tag": "ABX9TyOdFsVOOlHoxcsGKYissKxo",
   "provenance": []
  },
  "kernelspec": {
   "display_name": "Python 3 (ipykernel)",
   "language": "python",
   "name": "python3"
  },
  "language_info": {
   "codemirror_mode": {
    "name": "ipython",
    "version": 3
   },
   "file_extension": ".py",
   "mimetype": "text/x-python",
   "name": "python",
   "nbconvert_exporter": "python",
   "pygments_lexer": "ipython3",
   "version": "3.9.12"
  }
 },
 "nbformat": 4,
 "nbformat_minor": 1
}
