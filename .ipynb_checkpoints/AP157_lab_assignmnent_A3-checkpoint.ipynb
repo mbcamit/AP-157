{
 "cells": [
  {
   "cell_type": "markdown",
   "metadata": {
    "id": "ZKIV71UGXXER"
   },
   "source": [
    "# **AP157 Machine Learning Lab Assignment**\n",
    "## Module A.3: Dimensionality Reduction -- Principal Component Analysis of SDSS Galaxy Spectra\n",
    "\n",
    "_Instructions_: Answer each part of the assignment as completely as you can. Discuss **all** your code and results as clearly and concisely as possible.\n",
    "\n",
    "_Scoring Criteria_: 50% - *correctness of code*; 50% - *discussion of the code and results*. Maximum score is **100 points** (Parts 1 and 2 are worth 25 and 75 points, respectively).\n",
    "\n",
    "_Credits_: This assignment is based on the scikit-learn tutorial \"Dimensionality Reduction of Astronomical Spectra\" ([link](https://ogrisel.github.io/scikit-learn.org/sklearn-tutorial/tutorial/astronomy/dimensionality_reduction.html))"
   ]
  },
  {
   "cell_type": "markdown",
   "metadata": {
    "id": "Qe-e_Ss-X6ft"
   },
   "source": [
    "### Student Information\n",
    "\n",
    "_Full Name (Last Name, First Name)_: \\\n",
    "_Student No._:\\\n",
    "_Section_:"
   ]
  },
  {
   "cell_type": "markdown",
   "metadata": {
    "id": "G_XF-07PX93d"
   },
   "source": [
    "### Submission Information\n",
    "\n",
    "_Date and Time Submitted (most recent upload)_:\n",
    "\n",
    "**HONOR PLEDGE** I affirm that I have upheld the highest principles of honesty and integrity in my academic work and that this lab assignment is my own work.\n",
    "\n",
    "**Sign here with your full name:**"
   ]
  },
  {
   "cell_type": "markdown",
   "metadata": {
    "id": "OwgP-Q1MYEdY"
   },
   "source": [
    "### Grading Information (c/o Instructor)\n",
    "\n",
    "TOTAL SCORE: **[]**/100\n",
    "\n",
    "Score breakdown:\n",
    "* Part 1 - []/25\n",
    "* Part 2 - []/75\n",
    "\n",
    "_Date and Time Scored (MM/DD/YYYY HH:MM AM/PM):_"
   ]
  },
  {
   "cell_type": "markdown",
   "metadata": {
    "id": "sV3B11uljlrZ"
   },
   "source": [
    "For this assignment, you will work with galaxy spectra data from the\n",
    "Sloan Digital Sky Survey (SDSS). First, you need to make a copy of the file ```spec4000_use.npz``` and save it to a folder in your **own Google Drive**. This file is available from the AP157 Machine Learning Google Drive (under the Datasets folder).\n",
    "\n",
    "The code cells below will (1) mount your Google Drive and (2) load ```spec4000_corrected.npz``` from your Google Drive folder.\n",
    "\n",
    "First, mount the Google Drive where you saved the .npy file.\n",
    "\n",
    "When you run this cell, you will be asked to sign in to your Google account and you will get an authorization code. Paste the code on the provided cell to mount the Google Drive."
   ]
  },
  {
   "cell_type": "code",
   "execution_count": null,
   "metadata": {
    "id": "FijjkO9tjmDF"
   },
   "outputs": [],
   "source": [
    "from google.colab import drive\n",
    "drive.mount(\"/content/drive\")"
   ]
  },
  {
   "cell_type": "markdown",
   "metadata": {
    "id": "qABQUn2wkFN0"
   },
   "source": [
    "Run this command to list the directories in your Google Drive and check that the mount was successful."
   ]
  },
  {
   "cell_type": "code",
   "execution_count": null,
   "metadata": {
    "id": "iZvNnbeKjzO0"
   },
   "outputs": [],
   "source": [
    "!ls drive/My\\ Drive"
   ]
  },
  {
   "cell_type": "markdown",
   "metadata": {
    "id": "nQAdEVvhkMn6"
   },
   "source": [
    "Define the directory path to the location of the file, i.e. if it is in a\n",
    "folder named \"AP157\" under My Drive, then the file path will be \"/content/drive/My Drive/AP157\". Change the string variable in the code cell below, as needed:"
   ]
  },
  {
   "cell_type": "code",
   "execution_count": null,
   "metadata": {
    "id": "A62VgtUMkSpZ"
   },
   "outputs": [],
   "source": [
    "file_path = \"/content/drive/My Drive/AP157/\""
   ]
  },
  {
   "cell_type": "markdown",
   "metadata": {
    "id": "cm7PRt97klTc"
   },
   "source": [
    "Now, we can load the file using $\\tt numpy$'s $\\tt load$ function below.\n"
   ]
  },
  {
   "cell_type": "code",
   "execution_count": null,
   "metadata": {
    "id": "6R9VTHdeac-L"
   },
   "outputs": [],
   "source": [
    "import numpy as np\n",
    "data = np.load(file_path + 'spec4000_use.npz')"
   ]
  },
  {
   "cell_type": "markdown",
   "metadata": {
    "id": "N77qwUCzoIMJ"
   },
   "source": [
    "The NpzFile object is a dictionary-like object which can be queried for its list of arrays and the arrays themselves ([reference](https://numpy.org/doc/stable/reference/generated/numpy.savez.html)). Our object contains two arrays: ``spec_recons`` - 4000 reconstructed SDSS spectra each with 1000 attributes (flux in units of $10^{-17}$ erg cm$^{-2}$ s$^{-1}$ Å$^{-1}$) and ``wavelength`` - array of wavelengths (in units of Angstroms) corresponding to these attributes."
   ]
  },
  {
   "cell_type": "code",
   "execution_count": null,
   "metadata": {
    "id": "rHHfZ_7Snmxv"
   },
   "outputs": [],
   "source": [
    "data.files"
   ]
  },
  {
   "cell_type": "code",
   "execution_count": null,
   "metadata": {
    "id": "BEcdNhIqoCsJ"
   },
   "outputs": [],
   "source": [
    "np.shape(data['spec_recons']), np.shape(data['wavelength'])"
   ]
  },
  {
   "cell_type": "markdown",
   "metadata": {
    "id": "Bwmq27YHpAVF"
   },
   "source": [
    "Let's plot the first few spectra to visualize our data"
   ]
  },
  {
   "cell_type": "code",
   "execution_count": null,
   "metadata": {
    "id": "dVgGjkejkuqZ"
   },
   "outputs": [],
   "source": [
    "from matplotlib import pyplot as plt\n",
    "%matplotlib inline"
   ]
  },
  {
   "cell_type": "code",
   "execution_count": null,
   "metadata": {
    "id": "7WDy-qhddg9j"
   },
   "outputs": [],
   "source": [
    "wavelength = data['wavelength']\n",
    "flux0 = data['spec_recons'][0,:]\n",
    "flux1 = data['spec_recons'][1,:]\n",
    "flux2 = data['spec_recons'][2,:]\n",
    "\n",
    "plt.plot(wavelength, flux0, 'k-')\n",
    "plt.plot(wavelength, flux1, 'b-')\n",
    "plt.plot(wavelength, flux2, 'r-')\n",
    "plt.ylabel(\"flux ($10^{-17}$ erg cm$^{-2}$ s$^{-1}$ Å$^{-1}$)\")\n",
    "plt.xlabel(\"wavelength (Angstroms)\")\n",
    "plt.title(\"Sample SDSS spectra\")"
   ]
  },
  {
   "cell_type": "markdown",
   "metadata": {
    "id": "diPr6neQrlRv"
   },
   "source": [
    "#### PART 1 - Get mean normalized spectrum *(25 pts.)*\n",
    "\n",
    "Plot the mean spectrum by first normalizing the spectra and plot the mean and standard deviation. For this, you may use the ``normalize`` function in scikit-learn's preprocessing module [(documentation)](https://scikit-learn.org/stable/modules/generated/sklearn.preprocessing.normalize.html). Describe the mean spectrum and note wavelengths with the highest variation across the sample. What is the reason for this variation?\n"
   ]
  },
  {
   "cell_type": "markdown",
   "metadata": {
    "id": "Gwwrw04fsxmU"
   },
   "source": [
    "#### PART 2 - Get principal components *(75 pts.)*\n",
    "\n",
    "Perform Principal Component Analysis (PCA) and visualize the top principal components:\n",
    "1. Get the first 4 principal components using the ``PCA`` function in scikit-learn's decomposition module [(documentation)](https://scikit-learn.org/0.15/modules/generated/sklearn.decomposition.PCA.html#sklearn.decomposition.PCA). Make sure to use the normalized spectra as input. *(25 pts.)*\n"
   ]
  },
  {
   "cell_type": "code",
   "execution_count": null,
   "metadata": {
    "id": "gghpm55-4jxK"
   },
   "outputs": [],
   "source": []
  },
  {
   "cell_type": "markdown",
   "metadata": {
    "id": "Mg3eAVg5z0Nk"
   },
   "source": [
    "2. Plot the first two principal components (coefficient 1 in the x axis and coefficient 2 in the y axis). Make sure to label the axes and good to set x and y axis limits to be equal. *(25 pts.)*"
   ]
  },
  {
   "cell_type": "code",
   "execution_count": null,
   "metadata": {
    "id": "irbq797Q4jfF"
   },
   "outputs": [],
   "source": []
  },
  {
   "cell_type": "markdown",
   "metadata": {
    "id": "NzhhSmKJ2XSk"
   },
   "source": [
    "3. Plot the first 4 eigenvectors together with the mean spectrum. Add an arbitrary y-offset between the spectra for clarity. *(25 pts.)*"
   ]
  },
  {
   "cell_type": "code",
   "execution_count": null,
   "metadata": {
    "id": "bp61qYqe2qpw"
   },
   "outputs": [],
   "source": []
  }
 ],
 "metadata": {
  "colab": {
   "provenance": [
    {
     "file_id": "1VTal49mNq6JlO0qeP8FMr0vqJ4MhspRZ",
     "timestamp": 1614092953728
    }
   ]
  },
  "kernelspec": {
   "display_name": "Python 3 (ipykernel)",
   "language": "python",
   "name": "python3"
  },
  "language_info": {
   "codemirror_mode": {
    "name": "ipython",
    "version": 3
   },
   "file_extension": ".py",
   "mimetype": "text/x-python",
   "name": "python",
   "nbconvert_exporter": "python",
   "pygments_lexer": "ipython3",
   "version": "3.9.12"
  }
 },
 "nbformat": 4,
 "nbformat_minor": 1
}
