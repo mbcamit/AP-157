{
 "cells": [
  {
   "cell_type": "markdown",
   "metadata": {
    "id": "RSdzzrWrgAXu"
   },
   "source": [
    "# **AP157 Module C Lab Assignment**\n",
    "\n",
    "## Module C1: Networks\n",
    "\n",
    "_Instructions_: Answer each part of the assignment as completely as you can. Discuss **all** your code and results as clearly and concisely as possible.\n",
    "\n",
    "_Scoring Criteria_: 50% - *correctness of code*; 50% - *discussion of the code and results*. Maximum score is **100 points**.\n",
    "\n",
    "_Credits_: The sample social network used is taken from https://nauczanki.wordpress.com/2014/11/10/social-network-analysis-basics-in-300-words-dalmooc-assignment-week-3/, which in turn is taken from an unspecified MOOC assignment."
   ]
  },
  {
   "cell_type": "markdown",
   "metadata": {
    "id": "I_dmUyo2pxIt"
   },
   "source": [
    "### Student Information\n",
    "\n",
    "_Full Name (Last Name, First Name)_: Ma. Ezthelia Kaye B. Camit \\\n",
    "_Student No._:2020-06594\\\n",
    "_Section_:THY-TX1"
   ]
  },
  {
   "cell_type": "markdown",
   "metadata": {
    "id": "LyO1CnkFp17G"
   },
   "source": [
    "### Submission Information\n",
    "\n",
    "_Date and Time Submitted (most recent upload)_:\n",
    "\n",
    "**HONOR PLEDGE** I affirm that I have upheld the highest principles of honesty and integrity in my academic work and that this lab assignment is my own work.\n",
    "\n",
    "**Sign here with your full name: MA. EZTHELIA KAYE B. CAMIT**"
   ]
  },
  {
   "cell_type": "markdown",
   "metadata": {
    "id": "xgse8Mt5p35S"
   },
   "source": [
    "### Grading Information (c/o Instructor)\n",
    "\n",
    "TOTAL SCORE: **[]**/100\n",
    "\n",
    "Score breakdown:\n",
    "* Part 1 - []/30\n",
    "* Part 2 - []/30\n",
    "* Part 3 - []/30\n",
    "* Part 4 - []/40\n",
    "\n",
    "_Date and Time Scored (MM/DD/YYYY HH:MM AM/PM):_"
   ]
  },
  {
   "cell_type": "code",
   "execution_count": 2,
   "metadata": {},
   "outputs": [],
   "source": [
    "import networkx as nx\n",
    "import matplotlib.pyplot as plt\n",
    "import pandas as pd\n",
    "\n",
    "import community as community_louvain"
   ]
  },
  {
   "cell_type": "code",
   "execution_count": 3,
   "metadata": {},
   "outputs": [
    {
     "data": {
      "text/plain": [
       "'3.2.1'"
      ]
     },
     "execution_count": 3,
     "metadata": {},
     "output_type": "execute_result"
    }
   ],
   "source": [
    "nx.__version__"
   ]
  },
  {
   "cell_type": "markdown",
   "metadata": {
    "id": "ume3h45hdJFm"
   },
   "source": [
    "For all parts of this assignment,  refer to the diagram of the sample social network in the Google Drive \"Datasets\" Folder (https://drive.google.com/file/d/1DkAK44GfocX0bmlSfK5Q6cbYXAUkixyj/view?usp=drive_link)"
   ]
  },
  {
   "cell_type": "markdown",
   "metadata": {
    "id": "gAgom2vqp-2X"
   },
   "source": [
    "#### PART 1 - Network generation and characteristics *(30 points)*\n",
    "\n",
    "1. Using the Python package networkx, define a network that represents the social network of friends in the diagram. *(15 points)*  \n",
    "\n",
    "2. Calculate the ff. network characteristics: *(15 points; 5 points each)*\n",
    "- Diameter\n",
    "- Density\n",
    "- Average Degree\n",
    "\n",
    "3. Create the degree distribution plot and briefly discuss what it tells us about this social network. *(10 points)*"
   ]
  },
  {
   "cell_type": "code",
   "execution_count": 4,
   "metadata": {
    "id": "U5dRTIPWfNss"
   },
   "outputs": [
    {
     "data": {
      "image/png": "[encoded data removed]",
      "text/plain": [
       "<Figure size 432x288 with 1 Axes>"
      ]
     },
     "metadata": {},
     "output_type": "display_data"
    }
   ],
   "source": [
    "Friends= nx.Graph()\n",
    "Friends.add_node('Jill')\n",
    "\n",
    "nodes_to_add = ['Mike', 'Bob', 'John', 'Leah', 'Shane', 'Emma', 'Liz', 'Allen', 'Lisa']\n",
    "Friends.add_nodes_from(nodes_to_add)\n",
    "\n",
    "Friends.add_edge('Jill','Mike')\n",
    "edges_to_add = [('Jill','Bob'),('Jill','Emma'),('Jill','John'),\n",
    "               ('Jill','Leah'),('Jill','Shane'),('Mike','Bob'),\n",
    "                ('Mike','Emma'),('Bob','John'),('Bob','Emma'),\n",
    "                ('Emma','Shane'),('John','Shane'),('John','Leah'),\n",
    "                ('Leah','Shane'),('Emma','Liz'),('Shane','Liz'),\n",
    "                ('Liz','Allen'),('Allen','Lisa')]\n",
    "\n",
    "Friends.add_edges_from(edges_to_add)\n",
    "\n",
    "nx.draw(Friends, with_labels = True,\n",
    "       node_color = 'pink',\n",
    "       node_size = 1600,\n",
    "       font_color = 'green',\n",
    "       font_size = 16,\n",
    "       )"
   ]
  },
  {
   "cell_type": "markdown",
   "metadata": {},
   "source": [
    "## The social network of friends in the diagram\n",
    "as seen above is the figure representing the netwrok of friends."
   ]
  },
  {
   "cell_type": "markdown",
   "metadata": {},
   "source": [
    "## Calculation of the different network characterisitics\n",
    "\n",
    "#### Diameter\n",
    "\n",
    "The diameter of a network is the lenght of the longest shortest path between any two nodes in the network. Solving for the diameter involves finding these shortests path and determining the lenght of the longest one.\n",
    "\n",
    "Luckily the netwokx module has a built in function that solves for the diameter, hence that's why we used the nx.diameter()\n"
   ]
  },
  {
   "cell_type": "code",
   "execution_count": 6,
   "metadata": {},
   "outputs": [
    {
     "data": {
      "text/plain": [
       "4"
      ]
     },
     "execution_count": 6,
     "metadata": {},
     "output_type": "execute_result"
    }
   ],
   "source": [
    "nx.diameter(Friends)"
   ]
  },
  {
   "cell_type": "markdown",
   "metadata": {},
   "source": [
    "#### Density\n",
    "\n",
    "To measure how connectec a network is we calculate the density. It measures the proportion of possible connections in the network that are actually realise. It qauntifies the connection of the netwrok by calculating the ration of the number of edges present in the network to the total number of possible edges in the network. \n",
    "\n",
    "Again, luckily the networkx module has an existing function that measures the density.\n",
    "\n",
    "To manually compute the density, here's the step by step process on how it is calculated:\n",
    "\n",
    "1. We count the total number of edges present in the network\n",
    "2. Determine the total number of possible edges in the network. For an undirected graph with the n nodes, the maximum number of edges is $\\frac{n(n-1)}{2}$. While for the directed graph is $n(n-1)$.\n",
    "3. Compute the density by dividing the numbr of actual edges by the number of possible edges. For an undirected graph we use the equation, $\\frac{2 * number-of-edges}{n(n-1)}$, and for the directeed graph we use the formula, $\\frac{number-of-edges}{n(n-1)}$."
   ]
  },
  {
   "cell_type": "code",
   "execution_count": 7,
   "metadata": {},
   "outputs": [
    {
     "data": {
      "text/plain": [
       "0.4"
      ]
     },
     "execution_count": 7,
     "metadata": {},
     "output_type": "execute_result"
    }
   ],
   "source": [
    "nx.density(Friends)"
   ]
  },
  {
   "cell_type": "markdown",
   "metadata": {},
   "source": [
    "#### Average degree\n",
    "\n",
    "Average degree is simply the average number of edges per node in the graph. Unlike the other network characteristics solving for the average degree is actually straigthforward. All we have to do is divide the total edges over the total nodes.It is solved using 2L/N"
   ]
  },
  {
   "cell_type": "code",
   "execution_count": 15,
   "metadata": {},
   "outputs": [
    {
     "data": {
      "text/plain": [
       "3.6"
      ]
     },
     "execution_count": 15,
     "metadata": {},
     "output_type": "execute_result"
    }
   ],
   "source": [
    "2*(Friends.number_of_edges()/ Friends.number_of_nodes())"
   ]
  },
  {
   "cell_type": "markdown",
   "metadata": {},
   "source": [
    "### Creating the degree distribution plot\n",
    "\n",
    "In this part of the activity we try to analyze the degree distribution of a network."
   ]
  },
  {
   "cell_type": "code",
   "execution_count": 16,
   "metadata": {},
   "outputs": [
    {
     "data": {
      "text/plain": [
       "Counter({6: 1, 3: 3, 4: 2, 5: 2, 2: 1, 1: 1})"
      ]
     },
     "execution_count": 16,
     "metadata": {},
     "output_type": "execute_result"
    }
   ],
   "source": [
    "## this part of the code basically counts the degree of a node in a network\n",
    "degree_sequence = [Friends.degree(n) for n in Friends.nodes]\n",
    "\n",
    "from collections import Counter\n",
    "\n",
    "degree_counts = Counter(degree_sequence)\n",
    "\n",
    "##in here we print out the frequencies of each degree in the network.\n",
    "degree_counts"
   ]
  },
  {
   "cell_type": "code",
   "execution_count": 17,
   "metadata": {},
   "outputs": [
    {
     "data": {
      "text/plain": [
       "Text(0, 0.5, 'Degree Sequence')"
      ]
     },
     "execution_count": 17,
     "metadata": {},
     "output_type": "execute_result"
    },
    {
     "data": {
      "image/png": "[encoded data removed]",
      "text/plain": [
       "<Figure size 432x288 with 1 Axes>"
      ]
     },
     "metadata": {
      "needs_background": "light"
     },
     "output_type": "display_data"
    }
   ],
   "source": [
    "#we showed here the degree of sequence for each node.\n",
    "plt.bar(Friends, degree_sequence)\n",
    "plt.xlabel(\"Names\")\n",
    "plt.ylabel(\"Degree Sequence\")"
   ]
  },
  {
   "cell_type": "markdown",
   "metadata": {},
   "source": [
    "As we can see on the histogram Jill has the highest degree which is expected since they are the center of the network."
   ]
  },
  {
   "cell_type": "code",
   "execution_count": 18,
   "metadata": {},
   "outputs": [],
   "source": [
    "min_degree, max_degree = min(degree_counts.keys()), max(degree_counts.keys())\n",
    "plot_x = list(range(min_degree, max_degree + 1))"
   ]
  },
  {
   "cell_type": "code",
   "execution_count": 19,
   "metadata": {},
   "outputs": [],
   "source": [
    "plot_y = [degree_counts.get(x, 0) for x in plot_x]"
   ]
  },
  {
   "cell_type": "code",
   "execution_count": 20,
   "metadata": {},
   "outputs": [
    {
     "data": {
      "text/plain": [
       "Text(0, 0.5, 'Counts')"
      ]
     },
     "execution_count": 20,
     "metadata": {},
     "output_type": "execute_result"
    },
    {
     "data": {
      "image/png": "[encoded data removed]",
      "text/plain": [
       "<Figure size 432x288 with 1 Axes>"
      ]
     },
     "metadata": {
      "needs_background": "light"
     },
     "output_type": "display_data"
    }
   ],
   "source": [
    "plt.bar(plot_x, plot_y)\n",
    "plt.xlabel(\"Degrees\")\n",
    "plt.ylabel(\"Counts\")\n",
    "\n",
    "## In here we showed the Degree vs. Count, as we can see there are 3 nodes which had 3 degrees."
   ]
  },
  {
   "cell_type": "markdown",
   "metadata": {
    "id": "aE9PlOt1fIUb"
   },
   "source": [
    "#### PART 2 - Centrality Measures *(30 points)*\n",
    "\n",
    "Generate a table of centrality measures per node. Columns are:\n",
    "- Name\n",
    "- Degree Centrality\n",
    "- Betweenness Centrality\n",
    "- Closeness Centrality\n",
    "\n",
    "Briefly discuss who are the most \"central\" people in the social network and why."
   ]
  },
  {
   "cell_type": "markdown",
   "metadata": {},
   "source": [
    "In this part of the code we have to create the table for the information above, but since networkx has the functions for all of it, im jsut gonna discuss how to mannually compute for it.\n",
    "\n",
    "1. Degree Centrality\n",
    "--> The degree centrality, to define it in Leymann's term, it is simply the measure of how many alters an ego shares ties with. The logic is that those with more alters, compared to those with fewer, hold a more prominent place in the network.\n",
    "    $$ C_{D} (j) = \\sum_{j = 1}^{n} A_{ij}$$\n",
    "2. Betweenness Centrality\n",
    "--> The betweeness centrality basically asnwers the question \"how many geodesic linkings between two actors j and k contain actor i?\" It can be calculated using the equation:\n",
    "$$ C_{B}(n_i) = \\frac{\\sum_{j < k}g_{jk} (n_i)}{g_{jk}}$$\n",
    "3. Closeness Centrality\n",
    "--> The closeness centrality basically answers the question \"Who has the shortest distance to the other actors? \". It can be calculated using the equation:\n",
    "$$C_{c}(n_i) = \\frac{1}{\\sum_{j=1}^{g} d(n_i,n_j)}$$"
   ]
  },
  {
   "cell_type": "code",
   "execution_count": 21,
   "metadata": {},
   "outputs": [
    {
     "name": "stdout",
     "output_type": "stream",
     "text": [
      "    Name  Degree Centrality  Betweenness Centrality  Closeness Centrality\n",
      "0   Jill           0.666667                0.101852              0.600000\n",
      "1   Mike           0.333333                0.000000              0.500000\n",
      "2    Bob           0.444444                0.023148              0.529412\n",
      "3   John           0.444444                0.023148              0.529412\n",
      "4   Leah           0.333333                0.000000              0.500000\n",
      "5  Shane           0.555556                0.231481              0.642857\n",
      "6   Emma           0.555556                0.231481              0.642857\n",
      "7    Liz           0.333333                0.388889              0.600000\n",
      "8  Allen           0.222222                0.222222              0.428571\n",
      "9   Lisa           0.111111                0.000000              0.310345\n"
     ]
    }
   ],
   "source": [
    "degree_centrality = nx.degree_centrality(Friends)\n",
    "betweenness_centrality = nx.betweenness_centrality(Friends)\n",
    "closeness_centrality = nx.closeness_centrality(Friends)\n",
    "\n",
    "centrality_df = pd.DataFrame({\n",
    "    'Name': list(Friends.nodes()),\n",
    "    'Degree Centrality': [degree_centrality[node] for node in Friends.nodes()],\n",
    "    'Betweenness Centrality': [betweenness_centrality[node] for node in Friends.nodes()],\n",
    "    'Closeness Centrality': [closeness_centrality[node] for node in Friends.nodes()]\n",
    "})\n",
    "\n",
    "print(centrality_df)"
   ]
  },
  {
   "cell_type": "markdown",
   "metadata": {},
   "source": [
    "#### PART 3 - Identify communities *(40 points)*\n",
    "\n",
    "1. Identify communities in the social network using *(30 points)*:\n",
    "- Louvain community detection algorithm\n",
    "- Any other community detection algorithm of your choice\n",
    "\n",
    "2. Calculate the modularity of the partitions from the two community detection algorithms. *(10 points)*\n",
    "\n",
    "Briefly describe the algorithm you used and compare the results from the two algorithms."
   ]
  },
  {
   "cell_type": "markdown",
   "metadata": {
    "id": "deBmiyRqfYJJ"
   },
   "source": [
    "## Indentifying Communities"
   ]
  },
  {
   "cell_type": "markdown",
   "metadata": {},
   "source": [
    "### Louvian Community detection algorithm\n",
    "\n",
    "The equation for the Louvian modularity algorithm is given below, where:\n",
    "\n",
    "* $A_{ij}$  is the adjacency matrix entry_\n",
    "* $k_i$ and $k_j$ are the edges of nodes i and j.\n",
    "* $m$ is the total number of edges in the network.\n",
    "* $c_i$ and $c_j$ are the communities of nodes i and j.\n",
    "* $\\delta(c_i, c_j)$ is the Kronecker delta function.\n",
    "\n",
    "I used the code from https://python-louvain.readthedocs.io/en/latest/ "
   ]
  },
  {
   "cell_type": "markdown",
   "metadata": {},
   "source": [
    "$$ Q = \\frac{1}{2m} \\sum_{ij} \\big(A_{ij} - \\gamma \\frac{k_i k_j}{2m}\\big) \\delta(c_i, c_j)  $$"
   ]
  },
  {
   "cell_type": "markdown",
   "metadata": {},
   "source": [
    "The following codes are based on Daffon's code."
   ]
  },
  {
   "cell_type": "markdown",
   "metadata": {},
   "source": [
    "The networkx library offers a function to perform the Louvain community detection algorithm on a specified network. Notably, this function includes the parameters \"seed\" and \"resolution.\"\n",
    "\n",
    "The \"seed\" parameter influences the algorithm's randomness by determining the random number generation, meaning different seeds can produce varying outcomes (though this is not guaranteed, given the inherent randomness).\n",
    "\n",
    "The Louvain algorithm starts by assigning each node to its own community. It then iteratively moves each node to neighboring communities, seeking to maximize modularity. If merging nodes does not improve modularity, the nodes stay in their original communities."
   ]
  },
  {
   "cell_type": "code",
   "execution_count": 24,
   "metadata": {},
   "outputs": [
    {
     "name": "stdout",
     "output_type": "stream",
     "text": [
      "[{'Mike', 'Emma', 'Bob'}, {'Jill', 'John', 'Leah', 'Shane'}, {'Lisa', 'Allen', 'Liz'}]\n",
      "[{'Mike', 'Emma', 'Bob'}, {'Jill', 'John', 'Leah', 'Shane'}, {'Lisa', 'Allen', 'Liz'}]\n",
      "[{'Jill', 'Mike', 'Emma', 'Bob'}, {'John', 'Leah', 'Shane'}, {'Lisa', 'Allen', 'Liz'}]\n",
      "[{'Jill', 'Mike', 'Emma', 'Bob'}, {'John', 'Leah', 'Shane'}, {'Lisa', 'Allen', 'Liz'}]\n",
      "[{'Jill', 'Mike', 'Emma', 'Bob'}, {'John', 'Leah', 'Shane'}, {'Lisa', 'Allen', 'Liz'}]\n",
      "[{'Jill', 'Mike', 'Emma', 'Bob'}, {'John', 'Leah', 'Shane'}, {'Lisa', 'Allen', 'Liz'}]\n",
      "[{'Mike', 'Emma', 'Bob'}, {'Jill', 'John', 'Leah', 'Shane'}, {'Lisa', 'Allen', 'Liz'}]\n",
      "[{'Jill', 'Mike', 'Emma', 'Bob'}, {'John', 'Leah', 'Shane'}, {'Lisa', 'Allen', 'Liz'}]\n",
      "[{'Jill', 'Mike', 'Emma', 'Bob'}, {'John', 'Leah', 'Shane'}, {'Lisa', 'Allen', 'Liz'}]\n",
      "[{'Jill', 'Mike', 'Emma', 'Bob'}, {'John', 'Leah', 'Shane'}, {'Lisa', 'Allen', 'Liz'}]\n"
     ]
    }
   ],
   "source": [
    "for i in range(10): # iterate from 0 to 9\n",
    "  print(nx.community.louvain_communities(Friends, seed=i, resolution=1)) # seed varies, resolution = 1 is constant"
   ]
  },
  {
   "cell_type": "code",
   "execution_count": 26,
   "metadata": {
    "scrolled": true
   },
   "outputs": [
    {
     "name": "stdout",
     "output_type": "stream",
     "text": [
      "[{'Mike', 'Emma', 'Bob'}, {'Jill', 'John', 'Leah', 'Shane'}, {'Lisa', 'Allen', 'Liz'}]\n",
      "[{'Mike', 'Emma', 'Bob'}, {'Jill', 'John', 'Leah', 'Shane'}, {'Lisa', 'Allen', 'Liz'}]\n",
      "[{'Mike', 'Emma', 'Bob'}, {'Jill', 'John', 'Leah', 'Shane'}, {'Lisa', 'Allen', 'Liz'}]\n",
      "[{'Mike', 'Emma', 'Bob'}, {'Jill', 'John', 'Leah', 'Shane'}, {'Lisa', 'Allen', 'Liz'}]\n",
      "[{'Mike', 'Emma', 'Bob'}, {'Jill', 'John', 'Leah', 'Shane'}, {'Lisa', 'Allen', 'Liz'}]\n",
      "[{'Mike', 'Emma', 'Bob'}, {'Jill', 'John', 'Leah', 'Shane'}, {'Lisa', 'Allen', 'Liz'}]\n",
      "[{'Mike', 'Emma', 'Bob'}, {'Jill', 'John', 'Leah', 'Shane'}, {'Lisa', 'Allen', 'Liz'}]\n",
      "[{'Mike', 'Emma', 'Bob'}, {'Jill', 'John', 'Leah', 'Shane'}, {'Lisa', 'Allen', 'Liz'}]\n",
      "[{'Mike', 'Emma', 'Bob'}, {'Jill', 'John', 'Leah', 'Shane'}, {'Lisa', 'Allen', 'Liz'}]\n",
      "[{'Mike', 'Emma', 'Bob'}, {'Jill', 'John', 'Leah', 'Shane'}, {'Lisa', 'Allen', 'Liz'}]\n"
     ]
    }
   ],
   "source": [
    "for i in range(10): # iterate from 0 to 9\n",
    "  print(nx.community.louvain_communities(Friends, seed=1, resolution=1)) # seed constant, resolution = 1 is constant."
   ]
  },
  {
   "cell_type": "markdown",
   "metadata": {},
   "source": [
    "As observed on the result varying seed gives us the same values. So a good wy to check other parameters that could affect this we can try varying the values of the resolution."
   ]
  },
  {
   "cell_type": "code",
   "execution_count": 27,
   "metadata": {},
   "outputs": [
    {
     "name": "stdout",
     "output_type": "stream",
     "text": [
      "[{'Jill', 'John', 'Mike', 'Shane', 'Emma', 'Leah', 'Bob'}, {'Lisa', 'Allen', 'Liz'}]\n",
      "[{'Jill', 'Mike', 'Emma', 'John', 'Shane', 'Leah', 'Bob'}, {'Lisa', 'Allen', 'Liz'}]\n",
      "[{'Jill', 'Mike', 'Emma', 'John', 'Shane', 'Leah', 'Bob'}, {'Lisa', 'Allen', 'Liz'}]\n",
      "[{'Jill', 'John', 'Mike', 'Shane', 'Emma', 'Leah', 'Bob'}, {'Lisa', 'Allen', 'Liz'}]\n",
      "[{'Jill', 'Mike', 'Emma', 'John', 'Shane', 'Leah', 'Bob'}, {'Lisa', 'Allen', 'Liz'}]\n",
      "[{'Jill', 'Mike', 'Emma', 'John', 'Shane', 'Leah', 'Bob'}, {'Lisa', 'Allen', 'Liz'}]\n",
      "[{'Jill', 'John', 'Mike', 'Shane', 'Emma', 'Leah', 'Bob'}, {'Lisa', 'Allen', 'Liz'}]\n",
      "[{'Jill', 'Mike', 'Emma', 'John', 'Shane', 'Leah', 'Bob'}, {'Lisa', 'Allen', 'Liz'}]\n",
      "[{'Jill', 'Mike', 'Emma', 'John', 'Shane', 'Leah', 'Bob'}, {'Lisa', 'Allen', 'Liz'}]\n",
      "[{'Jill', 'Mike', 'Emma', 'John', 'Shane', 'Leah', 'Bob'}, {'Lisa', 'Allen', 'Liz'}]\n"
     ]
    }
   ],
   "source": [
    "for i in range(10): # iterate from 0 to 9\n",
    "  print(nx.community.louvain_communities(Friends, seed=i, resolution=0.8))"
   ]
  },
  {
   "cell_type": "markdown",
   "metadata": {},
   "source": [
    "As we lowered the value of the resolution the number of communities decreased. From this we can say that as we increase the value of the resolution we also increase the \"requirements\" in order to be included in a certain community."
   ]
  },
  {
   "cell_type": "code",
   "execution_count": 30,
   "metadata": {},
   "outputs": [
    {
     "name": "stdout",
     "output_type": "stream",
     "text": [
      "0.16666666666666669\n"
     ]
    }
   ],
   "source": [
    "l_com = nx.community.louvain_communities(Friends, seed=1, resolution=0.8) # finding the Louvain communities\n",
    "l_mod = nx.community.modularity(Friends, l_com) # taking the final modularity of the network\n",
    "print(l_mod)"
   ]
  },
  {
   "cell_type": "markdown",
   "metadata": {},
   "source": [
    "To check if our values are parallel to what is shown in other coomunity detection tools we used greedy_modularity_commnities to set the same resolution as the louvain and fromhere we can see that both has the same result"
   ]
  },
  {
   "cell_type": "code",
   "execution_count": 33,
   "metadata": {},
   "outputs": [
    {
     "name": "stdout",
     "output_type": "stream",
     "text": [
      "0.16666666666666669\n"
     ]
    }
   ],
   "source": [
    "g_com = nx.community.greedy_modularity_communities(Friends, resolution=0.8) # finding the greedy modularity communities\n",
    "g_mod = nx.community.modularity(Friends, g_com) # taking the final modularity of the network\n",
    "print(g_mod)"
   ]
  },
  {
   "cell_type": "markdown",
   "metadata": {},
   "source": [
    "To further check if the communities were also the same we printed it out and yes the communities created were also the same."
   ]
  },
  {
   "cell_type": "code",
   "execution_count": 34,
   "metadata": {},
   "outputs": [
    {
     "name": "stdout",
     "output_type": "stream",
     "text": [
      "[{'Jill', 'Mike', 'Emma', 'John', 'Shane', 'Leah', 'Bob'}, {'Lisa', 'Allen', 'Liz'}] \n",
      " [frozenset({'Jill', 'Mike', 'Emma', 'John', 'Shane', 'Leah', 'Bob'}), frozenset({'Lisa', 'Allen', 'Liz'})]\n"
     ]
    }
   ],
   "source": [
    "print(l_com, \"\\n\", g_com) # inspecting the communities created"
   ]
  },
  {
   "cell_type": "markdown",
   "metadata": {},
   "source": [
    "These results appear logical because the way the greedy_modularity_communities function operates is quite similar to the Louvain algorithm. Both start by assigning each node to its own community and then repeatedly merge pairs of communities that produce the greatest modularity increase until no further increase is possible. Additionally, the similar resolution settings I used may have contributed to these results."
   ]
  },
  {
   "cell_type": "code",
   "execution_count": null,
   "metadata": {},
   "outputs": [],
   "source": []
  }
 ],
 "metadata": {
  "colab": {
   "provenance": []
  },
  "kernelspec": {
   "display_name": "Python 3 (ipykernel)",
   "language": "python",
   "name": "python3"
  },
  "language_info": {
   "codemirror_mode": {
    "name": "ipython",
    "version": 3
   },
   "file_extension": ".py",
   "mimetype": "text/x-python",
   "name": "python",
   "nbconvert_exporter": "python",
   "pygments_lexer": "ipython3",
   "version": "3.9.12"
  }
 },
 "nbformat": 4,
 "nbformat_minor": 1
}
